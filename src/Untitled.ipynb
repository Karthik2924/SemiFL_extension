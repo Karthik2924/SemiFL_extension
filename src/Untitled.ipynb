{
 "cells": [
  {
   "cell_type": "code",
   "execution_count": null,
   "id": "8c6032f7-c600-421d-8e69-f33d03fcca0e",
   "metadata": {},
   "outputs": [],
   "source": [
    "!python train_classifier_ssfl.py --data_name voc --model_name deeplab --control_name 500_fix@0.95-mix_3_0.5_iid_5-5_0.5_0_1"
   ]
  },
  {
   "cell_type": "code",
   "execution_count": null,
   "id": "abd1b85b-6a5c-4530-8aa6-2b47b32a32f5",
   "metadata": {},
   "outputs": [],
   "source": [
    "git clone https://github.com/Karthik2924/SemiFL_extension.git"
   ]
  },
  {
   "cell_type": "code",
   "execution_count": null,
   "id": "1d89ba60-b2c2-490c-90d7-8a121f2d313a",
   "metadata": {},
   "outputs": [],
   "source": [
    "gdown 1vXyVtH38tXe6qgtB1F4xgOqg3PuAtU65"
   ]
  },
  {
   "cell_type": "code",
   "execution_count": null,
   "id": "cffe384f-1cc1-4ca6-9fd3-f8023dc27b66",
   "metadata": {},
   "outputs": [],
   "source": [
    "gdown 1MH7vQJJj_UxsCrpcNzZZvs-U-NaefsGQ"
   ]
  },
  {
   "cell_type": "code",
   "execution_count": null,
   "id": "5fc23eb2-414c-4916-82c4-dd399447694f",
   "metadata": {},
   "outputs": [],
   "source": [
    "pip install gdown torchmetrics anytree"
   ]
  },
  {
   "cell_type": "code",
   "execution_count": 10,
   "id": "857a4b4b-d3c6-46ba-92fc-d6934db3338c",
   "metadata": {},
   "outputs": [],
   "source": [
    "from itertools import compress\n",
    "import torch.nn as nn\n",
    "import torch.nn.functional as F\n"
   ]
  },
  {
   "cell_type": "code",
   "execution_count": 5,
   "id": "7b58b352-66a2-4562-95c9-50c25dbf81a6",
   "metadata": {},
   "outputs": [],
   "source": [
    "import torch\n",
    "from torch.utils.data import Dataset\n",
    "\n",
    "class ToyDataset(Dataset):\n",
    "    def __init__(self, num_samples=100, input_dim=5, output_dim=1):\n",
    "        self.num_samples = num_samples\n",
    "        self.data = torch.rand(100,3,128,128)\n",
    "        self.target = torch.rand(100,1,128,128)\n",
    "\n",
    "\n",
    "    def __len__(self):\n",
    "        return 150\n",
    "        #return self.num_samples\n",
    "\n",
    "    def __getitem__(self, idx):\n",
    "        idx = idx%100\n",
    "        input_data, output_data = self.data[idx],self.target[idx]\n",
    "        return input_data, output_data\n",
    "\n",
    "# Create an instance of the ToyDataset\n",
    "toy_dataset = ToyDataset(num_samples=100)\n"
   ]
  },
  {
   "cell_type": "code",
   "execution_count": 7,
   "id": "7c4e2573-4d86-4aa2-8cf0-922f4bc733f5",
   "metadata": {},
   "outputs": [
    {
     "data": {
      "text/plain": [
       "(tensor([[[0.4975, 0.7686, 0.4795,  ..., 0.1474, 0.7464, 0.2508],\n",
       "          [0.5049, 0.9876, 0.5693,  ..., 0.5292, 0.8536, 0.0486],\n",
       "          [0.9983, 0.2372, 0.6593,  ..., 0.3840, 0.9160, 0.1772],\n",
       "          ...,\n",
       "          [0.2423, 0.9949, 0.1096,  ..., 0.2962, 0.8126, 0.7632],\n",
       "          [0.5282, 0.5487, 0.8986,  ..., 0.1457, 0.6552, 0.2331],\n",
       "          [0.9383, 0.8419, 0.0575,  ..., 0.8684, 0.8314, 0.8974]],\n",
       " \n",
       "         [[0.4601, 0.4387, 0.6227,  ..., 0.2938, 0.9770, 0.2080],\n",
       "          [0.3307, 0.5525, 0.1654,  ..., 0.9443, 0.9633, 0.5328],\n",
       "          [0.9122, 0.0173, 0.0084,  ..., 0.1135, 0.3655, 0.0996],\n",
       "          ...,\n",
       "          [0.7258, 0.5094, 0.5387,  ..., 0.6418, 0.5087, 0.6313],\n",
       "          [0.3532, 0.8182, 0.7039,  ..., 0.9960, 0.9706, 0.4381],\n",
       "          [0.5621, 0.8316, 0.0064,  ..., 0.6020, 0.5660, 0.3529]],\n",
       " \n",
       "         [[0.0977, 0.4910, 0.7194,  ..., 0.8975, 0.3972, 0.3261],\n",
       "          [0.3930, 0.2372, 0.8948,  ..., 0.8546, 0.6723, 0.8679],\n",
       "          [0.2092, 0.3817, 0.5599,  ..., 0.4609, 0.0270, 0.6556],\n",
       "          ...,\n",
       "          [0.8222, 0.5190, 0.4240,  ..., 0.1095, 0.4769, 0.7879],\n",
       "          [0.6880, 0.6233, 0.1539,  ..., 0.2907, 0.2180, 0.9744],\n",
       "          [0.1521, 0.2496, 0.0373,  ..., 0.9682, 0.8661, 0.9042]]]),\n",
       " tensor([[[0.1708, 0.3989, 0.7216,  ..., 0.4097, 0.3680, 0.4764],\n",
       "          [0.6156, 0.5812, 0.6803,  ..., 0.3034, 0.8304, 0.7056],\n",
       "          [0.5782, 0.2640, 0.4559,  ..., 0.7994, 0.4737, 0.1567],\n",
       "          ...,\n",
       "          [0.2607, 0.8634, 0.1924,  ..., 0.8515, 0.9477, 0.4279],\n",
       "          [0.0056, 0.4857, 0.3621,  ..., 0.2677, 0.0676, 0.8462],\n",
       "          [0.1843, 0.7743, 0.0566,  ..., 0.8871, 0.6603, 0.9102]]]))"
      ]
     },
     "execution_count": 7,
     "metadata": {},
     "output_type": "execute_result"
    }
   ],
   "source": [
    "toy_dataset[110]"
   ]
  },
  {
   "cell_type": "code",
   "execution_count": null,
   "id": "1ff917af-3c97-4d55-a66d-138dc0b1ccea",
   "metadata": {},
   "outputs": [],
   "source": [
    "output_, input_ = {}, {}\n",
    "output_['target'] = torch.cat(output, dim=0)\n",
    "input_['target'] = torch.cat(target, dim=0)\n",
    "#output_['target'] = F.softmax(output_['target'], dim=-1)\n",
    "output_['target'] = F.softmax(output_['target'], dim=1)"
   ]
  },
  {
   "cell_type": "code",
   "execution_count": 17,
   "id": "a21fdae0-8035-4d20-9d43-4bfe534a5cf4",
   "metadata": {},
   "outputs": [
    {
     "name": "stdout",
     "output_type": "stream",
     "text": [
      "torch.Size([12, 21, 256, 256]) torch.Size([12, 256, 256])\n"
     ]
    }
   ],
   "source": [
    "op = torch.rand(12, 21, 256, 256)\n",
    "ip = torch.randint(0,21,(12,256,256))\n",
    "print(op.shape,ip.shape)"
   ]
  },
  {
   "cell_type": "code",
   "execution_count": 18,
   "id": "4886484c-6705-4f03-96d0-ca086a7cadec",
   "metadata": {},
   "outputs": [],
   "source": [
    "op = F.softmax(op, dim=1)"
   ]
  },
  {
   "cell_type": "code",
   "execution_count": 19,
   "id": "a4d3b99e-52cb-483e-87fb-6ef53155ab00",
   "metadata": {},
   "outputs": [
    {
     "data": {
      "text/plain": [
       "torch.Size([12, 21, 256, 256])"
      ]
     },
     "execution_count": 19,
     "metadata": {},
     "output_type": "execute_result"
    }
   ],
   "source": [
    "op.shape"
   ]
  },
  {
   "cell_type": "code",
   "execution_count": 29,
   "id": "df17b880-cb3a-47c0-833c-63aea894b608",
   "metadata": {},
   "outputs": [],
   "source": [
    "def make_hard_pseudo_label( soft_pseudo_label):\n",
    "    #max_p, hard_pseudo_label = torch.max(soft_pseudo_label, dim=-1)\n",
    "    max_p, hard_pseudo_label = torch.max(soft_pseudo_label, dim=1)\n",
    "    #mask = max_p.ge(cfg['threshold'])\n",
    "    mask = max_p.ge(0.08)\n",
    "    return hard_pseudo_label, mask\n"
   ]
  },
  {
   "cell_type": "code",
   "execution_count": 30,
   "id": "aa26cea1-4c12-49b0-a2a9-b205f07b1e38",
   "metadata": {},
   "outputs": [],
   "source": [
    "nlab,mask = make_hard_pseudo_label(op)"
   ]
  },
  {
   "cell_type": "code",
   "execution_count": 33,
   "id": "0afa1929-9d53-4ef6-b382-7e31972d47e1",
   "metadata": {},
   "outputs": [
    {
     "data": {
      "text/plain": [
       "(tensor([False,  True]), tensor([752344,  34088]))"
      ]
     },
     "execution_count": 33,
     "metadata": {},
     "output_type": "execute_result"
    }
   ],
   "source": [
    "torch.unique(mask,return_counts = True)"
   ]
  },
  {
   "cell_type": "code",
   "execution_count": 35,
   "id": "9faf8c34-f342-4c3d-bf07-670c69bcbf87",
   "metadata": {},
   "outputs": [
    {
     "ename": "RuntimeError",
     "evalue": "Boolean value of Tensor with more than one value is ambiguous",
     "output_type": "error",
     "traceback": [
      "\u001b[0;31m---------------------------------------------------------------------------\u001b[0m",
      "\u001b[0;31mRuntimeError\u001b[0m                              Traceback (most recent call last)",
      "\u001b[0;32m/tmp/ipykernel_2639/1839336640.py\u001b[0m in \u001b[0;36m<module>\u001b[0;34m\u001b[0m\n\u001b[0;32m----> 1\u001b[0;31m \u001b[0mlist\u001b[0m\u001b[0;34m(\u001b[0m\u001b[0mcompress\u001b[0m\u001b[0;34m(\u001b[0m\u001b[0mnlab\u001b[0m\u001b[0;34m,\u001b[0m \u001b[0mmask\u001b[0m\u001b[0;34m)\u001b[0m\u001b[0;34m)\u001b[0m\u001b[0;34m\u001b[0m\u001b[0;34m\u001b[0m\u001b[0m\n\u001b[0m",
      "\u001b[0;31mRuntimeError\u001b[0m: Boolean value of Tensor with more than one value is ambiguous"
     ]
    }
   ],
   "source": [
    "list(compress(nlab, mask))"
   ]
  },
  {
   "cell_type": "code",
   "execution_count": null,
   "id": "53d3682e-8a0f-453c-a7f2-07278a5cd539",
   "metadata": {},
   "outputs": [],
   "source": []
  }
 ],
 "metadata": {
  "kernelspec": {
   "display_name": "Python 3 (ipykernel)",
   "language": "python",
   "name": "python3"
  },
  "language_info": {
   "codemirror_mode": {
    "name": "ipython",
    "version": 3
   },
   "file_extension": ".py",
   "mimetype": "text/x-python",
   "name": "python",
   "nbconvert_exporter": "python",
   "pygments_lexer": "ipython3",
   "version": "3.10.12"
  }
 },
 "nbformat": 4,
 "nbformat_minor": 5
}
