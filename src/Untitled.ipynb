{
 "cells": [
  {
   "cell_type": "code",
   "execution_count": null,
   "id": "8c6032f7-c600-421d-8e69-f33d03fcca0e",
   "metadata": {
    "editable": true,
    "slideshow": {
     "slide_type": ""
    },
    "tags": []
   },
   "outputs": [],
   "source": [
    "!python train_classifier_ssfl.py --data_name voc --model_name deeplab --control_name 500_fix@0.95-mix_3_0.5_iid_5-5_0.5_0_1"
   ]
  },
  {
   "cell_type": "code",
   "execution_count": null,
   "id": "abd1b85b-6a5c-4530-8aa6-2b47b32a32f5",
   "metadata": {},
   "outputs": [],
   "source": [
    "git clone https://github.com/Karthik2924/SemiFL_extension.git"
   ]
  },
  {
   "cell_type": "code",
   "execution_count": null,
   "id": "af806f68-db2d-4671-a45c-0470c8917218",
   "metadata": {},
   "outputs": [],
   "source": []
  },
  {
   "cell_type": "code",
   "execution_count": 3,
   "id": "ae147e99-6714-4f67-bb8b-d8f82299bd13",
   "metadata": {},
   "outputs": [],
   "source": [
    "mkdir data"
   ]
  },
  {
   "cell_type": "code",
   "execution_count": 4,
   "id": "b18b9f71-486b-4370-93da-9d7636100402",
   "metadata": {},
   "outputs": [
    {
     "name": "stdout",
     "output_type": "stream",
     "text": [
      "/home/ubuntu/SemiFL_extension/src/data\n"
     ]
    }
   ],
   "source": [
    "cd data"
   ]
  },
  {
   "cell_type": "code",
   "execution_count": 6,
   "id": "1d89ba60-b2c2-490c-90d7-8a121f2d313a",
   "metadata": {},
   "outputs": [
    {
     "name": "stdout",
     "output_type": "stream",
     "text": [
      "Downloading...\n",
      "From (original): https://drive.google.com/uc?id=1vXyVtH38tXe6qgtB1F4xgOqg3PuAtU65\n",
      "From (redirected): https://drive.google.com/uc?id=1vXyVtH38tXe6qgtB1F4xgOqg3PuAtU65&confirm=t&uuid=952b0318-c80b-4622-8d8d-5bd4d1153b50\n",
      "To: /home/ubuntu/SemiFL_extension/src/data/images.npy\n",
      "100%|███████████████████████████████████████| 2.29G/2.29G [00:14<00:00, 154MB/s]\n"
     ]
    }
   ],
   "source": [
    "!gdown 1vXyVtH38tXe6qgtB1F4xgOqg3PuAtU65"
   ]
  },
  {
   "cell_type": "code",
   "execution_count": 7,
   "id": "cffe384f-1cc1-4ca6-9fd3-f8023dc27b66",
   "metadata": {},
   "outputs": [
    {
     "name": "stdout",
     "output_type": "stream",
     "text": [
      "Downloading...\n",
      "From (original): https://drive.google.com/uc?id=1MH7vQJJj_UxsCrpcNzZZvs-U-NaefsGQ\n",
      "From (redirected): https://drive.google.com/uc?id=1MH7vQJJj_UxsCrpcNzZZvs-U-NaefsGQ&confirm=t&uuid=4c3f81bc-da88-4f68-97e0-0dbb8c172905\n",
      "To: /home/ubuntu/SemiFL_extension/src/data/masks.npy\n",
      "100%|███████████████████████████████████████| 1.53G/1.53G [00:09<00:00, 165MB/s]\n"
     ]
    }
   ],
   "source": [
    "!gdown 1MH7vQJJj_UxsCrpcNzZZvs-U-NaefsGQ"
   ]
  },
  {
   "cell_type": "code",
   "execution_count": 2,
   "id": "5fc23eb2-414c-4916-82c4-dd399447694f",
   "metadata": {},
   "outputs": [
    {
     "name": "stdout",
     "output_type": "stream",
     "text": [
      "[Errno 2] No such file or directory: 'data'\n",
      "/home/ubuntu/SemiFL_extension/src\n"
     ]
    }
   ],
   "source": [
    "pip install gdown torchmetrics anytree"
   ]
  },
  {
   "cell_type": "code",
   "execution_count": 18,
   "id": "857a4b4b-d3c6-46ba-92fc-d6934db3338c",
   "metadata": {},
   "outputs": [],
   "source": [
    "from itertools import compress\n",
    "import torch.nn as nn\n",
    "import torch.nn.functional as F\n",
    "import torch\n",
    "import numpy as np"
   ]
  },
  {
   "cell_type": "code",
   "execution_count": 19,
   "id": "7b58b352-66a2-4562-95c9-50c25dbf81a6",
   "metadata": {
    "editable": true,
    "slideshow": {
     "slide_type": ""
    },
    "tags": []
   },
   "outputs": [],
   "source": [
    "import torch\n",
    "from torch.utils.data import Dataset\n",
    "\n",
    "class SimpleDataset(Dataset):\n",
    "    def __init__(self):\n",
    "        #self.num_samples = num_samples\n",
    "        self.data = torch.rand(100,3,128,128)\n",
    "        self.target = torch.rand(100,1,128,128)\n",
    "        self.transform = None\n",
    "        self.ind = np.arange(100)\n",
    "\n",
    "\n",
    "    def __len__(self):\n",
    "        return len(self.data)\n",
    "        #return self.num_samples\n",
    "\n",
    "    def __getitem__(self, idx):\n",
    "        didx = self.ind[idx]\n",
    "        if self.transform:\n",
    "            return {'data':self.transform(torch.tensor(self.data[didx])), 'target':self.transform(self.target[idx])}\n",
    "        else:\n",
    "            return {'data': torch.tensor(self.data[didx]), 'target':self.target[idx]}\n",
    "\n",
    "# Create an instance of the ToyDataset\n",
    "toy_dataset = SimpleDataset()\n"
   ]
  },
  {
   "cell_type": "code",
   "execution_count": null,
   "id": "46d59ae7-9a58-498c-9fa2-abed81e2be65",
   "metadata": {},
   "outputs": [],
   "source": [
    " mix_data : torch.Size([32, 3, 256, 256])\n",
    " mix_target : torch.Size([32, 256, 256, 2])"
   ]
  },
  {
   "cell_type": "code",
   "execution_count": 55,
   "id": "4a082457-d68d-4bd9-af90-0d8086388a69",
   "metadata": {
    "editable": true,
    "slideshow": {
     "slide_type": ""
    },
    "tags": []
   },
   "outputs": [
    {
     "data": {
      "text/plain": [
       "torch.Size([32, 256, 256])"
      ]
     },
     "execution_count": 55,
     "metadata": {},
     "output_type": "execute_result"
    }
   ],
   "source": [
    "mt = torch.rand(32,256,256,2)\n",
    "mt[...,0].shape"
   ]
  },
  {
   "cell_type": "code",
   "execution_count": 225,
   "id": "7c4e2573-4d86-4aa2-8cf0-922f4bc733f5",
   "metadata": {
    "editable": true,
    "slideshow": {
     "slide_type": ""
    },
    "tags": []
   },
   "outputs": [
    {
     "data": {
      "text/plain": [
       "{'data': tensor([[[0.1558, 0.5554, 0.7492,  ..., 0.7182, 0.6796, 0.6616],\n",
       "          [0.0715, 0.1611, 0.1820,  ..., 0.7437, 0.8855, 0.1173],\n",
       "          [0.9753, 0.6165, 0.5458,  ..., 0.2451, 0.8714, 0.9966],\n",
       "          ...,\n",
       "          [0.7623, 0.5801, 0.5785,  ..., 0.9306, 0.1995, 0.6560],\n",
       "          [0.3178, 0.5615, 0.6404,  ..., 0.4690, 0.6695, 0.1623],\n",
       "          [0.7191, 0.6891, 0.3419,  ..., 0.6456, 0.5513, 0.0148]],\n",
       " \n",
       "         [[0.7347, 0.0358, 0.0323,  ..., 0.3718, 0.2759, 0.4531],\n",
       "          [0.5653, 0.4994, 0.9425,  ..., 0.9436, 0.1095, 0.9461],\n",
       "          [0.7066, 0.5367, 0.4919,  ..., 0.4237, 0.4636, 0.9858],\n",
       "          ...,\n",
       "          [0.5698, 0.4981, 0.6093,  ..., 0.7908, 0.8211, 0.4857],\n",
       "          [0.8211, 0.7413, 0.0222,  ..., 0.0151, 0.6716, 0.4168],\n",
       "          [0.1369, 0.1983, 0.8129,  ..., 0.9479, 0.2614, 0.0351]],\n",
       " \n",
       "         [[0.6801, 0.1116, 0.7881,  ..., 0.2024, 0.5684, 0.4633],\n",
       "          [0.6290, 0.7158, 0.5946,  ..., 0.4991, 0.0343, 0.2133],\n",
       "          [0.4969, 0.4387, 0.1266,  ..., 0.5765, 0.0394, 0.8180],\n",
       "          ...,\n",
       "          [0.8013, 0.0173, 0.6671,  ..., 0.0434, 0.0748, 0.1846],\n",
       "          [0.6022, 0.9026, 0.1992,  ..., 0.3614, 0.6847, 0.6265],\n",
       "          [0.0792, 0.9499, 0.0556,  ..., 0.5067, 0.9540, 0.3599]]]),\n",
       " 'target': tensor([[[0.4085, 0.9323, 0.2367,  ..., 0.1579, 0.5195, 0.6619],\n",
       "          [0.4206, 0.0041, 0.4602,  ..., 0.8152, 0.6566, 0.2879],\n",
       "          [0.5358, 0.2915, 0.0055,  ..., 0.9630, 0.6744, 0.6555],\n",
       "          ...,\n",
       "          [0.8892, 0.2518, 0.3535,  ..., 0.4094, 0.8589, 0.3327],\n",
       "          [0.7804, 0.4136, 0.7400,  ..., 0.8838, 0.8466, 0.1199],\n",
       "          [0.6109, 0.8123, 0.3661,  ..., 0.5646, 0.9636, 0.0913]]])}"
      ]
     },
     "execution_count": 225,
     "metadata": {},
     "output_type": "execute_result"
    }
   ],
   "source": [
    "toy_dataset[9]"
   ]
  },
  {
   "cell_type": "code",
   "execution_count": null,
   "id": "1ff917af-3c97-4d55-a66d-138dc0b1ccea",
   "metadata": {},
   "outputs": [],
   "source": [
    "output_, input_ = {}, {}\n",
    "output_['target'] = torch.cat(output, dim=0)\n",
    "input_['target'] = torch.cat(target, dim=0)\n",
    "#output_['target'] = F.softmax(output_['target'], dim=-1)\n",
    "output_['target'] = F.softmax(output_['target'], dim=1)"
   ]
  },
  {
   "cell_type": "code",
   "execution_count": 3,
   "id": "a21fdae0-8035-4d20-9d43-4bfe534a5cf4",
   "metadata": {},
   "outputs": [
    {
     "name": "stdout",
     "output_type": "stream",
     "text": [
      "torch.Size([12, 21, 256, 256]) torch.Size([12, 256, 256])\n"
     ]
    }
   ],
   "source": [
    "op = torch.rand(12, 21, 256, 256)\n",
    "ip = torch.randint(0,21,(12,256,256))\n",
    "print(op.shape,ip.shape)"
   ]
  },
  {
   "cell_type": "code",
   "execution_count": 4,
   "id": "4886484c-6705-4f03-96d0-ca086a7cadec",
   "metadata": {},
   "outputs": [],
   "source": [
    "op = F.softmax(op, dim=1)"
   ]
  },
  {
   "cell_type": "code",
   "execution_count": 5,
   "id": "a4d3b99e-52cb-483e-87fb-6ef53155ab00",
   "metadata": {},
   "outputs": [
    {
     "data": {
      "text/plain": [
       "torch.Size([12, 21, 256, 256])"
      ]
     },
     "execution_count": 5,
     "metadata": {},
     "output_type": "execute_result"
    }
   ],
   "source": [
    "op.shape"
   ]
  },
  {
   "cell_type": "code",
   "execution_count": 6,
   "id": "df17b880-cb3a-47c0-833c-63aea894b608",
   "metadata": {},
   "outputs": [],
   "source": [
    "def make_hard_pseudo_label( soft_pseudo_label):\n",
    "    #max_p, hard_pseudo_label = torch.max(soft_pseudo_label, dim=-1)\n",
    "    max_p, hard_pseudo_label = torch.max(soft_pseudo_label, dim=1)\n",
    "    print(max_p.shape)\n",
    "    mv = max_p.view(max_p.shape[0],-1).sum(1)\n",
    "    a,b,c = max_p.shape\n",
    "    total = b*c\n",
    "    #mask = max_p.ge(cfg['threshold'])\n",
    "    #mask = max_p.ge(0.08)\n",
    "    mask = mv.ge(total*0.07225)\n",
    "    return hard_pseudo_label, mask\n"
   ]
  },
  {
   "cell_type": "code",
   "execution_count": 7,
   "id": "aa26cea1-4c12-49b0-a2a9-b205f07b1e38",
   "metadata": {},
   "outputs": [
    {
     "name": "stdout",
     "output_type": "stream",
     "text": [
      "torch.Size([12, 256, 256])\n"
     ]
    }
   ],
   "source": [
    "nlab,mask = make_hard_pseudo_label(op)"
   ]
  },
  {
   "cell_type": "code",
   "execution_count": 8,
   "id": "0afa1929-9d53-4ef6-b382-7e31972d47e1",
   "metadata": {},
   "outputs": [
    {
     "data": {
      "text/plain": [
       "(tensor([False,  True]), tensor([7, 5]))"
      ]
     },
     "execution_count": 8,
     "metadata": {},
     "output_type": "execute_result"
    }
   ],
   "source": [
    "torch.unique(mask,return_counts = True)"
   ]
  },
  {
   "cell_type": "code",
   "execution_count": 210,
   "id": "9faf8c34-f342-4c3d-bf07-670c69bcbf87",
   "metadata": {},
   "outputs": [],
   "source": [
    "sup = list(compress(nlab, mask))"
   ]
  },
  {
   "cell_type": "code",
   "execution_count": 226,
   "id": "05a48212-775b-41f3-9b7e-1305d80d76ac",
   "metadata": {},
   "outputs": [
    {
     "data": {
      "text/plain": [
       "torch.Size([12, 256, 256])"
      ]
     },
     "execution_count": 226,
     "metadata": {},
     "output_type": "execute_result"
    }
   ],
   "source": [
    "nlab.shape"
   ]
  },
  {
   "cell_type": "code",
   "execution_count": 9,
   "id": "32590e25-7a54-4ad1-872c-82f569f9797c",
   "metadata": {},
   "outputs": [],
   "source": [
    "fdata = torch.rand(25,3,256,256)"
   ]
  },
  {
   "cell_type": "code",
   "execution_count": 10,
   "id": "8bb6ffb0-1a27-4b43-a3eb-f7a4fe5f85a6",
   "metadata": {},
   "outputs": [],
   "source": [
    "ind = torch.arange(12)"
   ]
  },
  {
   "cell_type": "code",
   "execution_count": 11,
   "id": "367cf819-c224-4ab8-bb98-6911975a59ae",
   "metadata": {},
   "outputs": [
    {
     "data": {
      "text/plain": [
       "torch.Size([5, 3, 256, 256])"
      ]
     },
     "execution_count": 11,
     "metadata": {},
     "output_type": "execute_result"
    }
   ],
   "source": [
    "fdata[ind,:][mask].shape"
   ]
  },
  {
   "cell_type": "code",
   "execution_count": 12,
   "id": "53d3682e-8a0f-453c-a7f2-07278a5cd539",
   "metadata": {},
   "outputs": [
    {
     "data": {
      "text/plain": [
       "torch.Size([12])"
      ]
     },
     "execution_count": 12,
     "metadata": {},
     "output_type": "execute_result"
    }
   ],
   "source": [
    "r = torch.rand(12,256,256)\n",
    "r.view(12,-1).sum(1).shape"
   ]
  },
  {
   "cell_type": "code",
   "execution_count": 246,
   "id": "8e191ae2-d90d-440d-bfcc-1b232a9907c8",
   "metadata": {},
   "outputs": [
    {
     "data": {
      "text/plain": [
       "tensor([False, False, False,  True, False,  True,  True, False, False, False,\n",
       "        False,  True])"
      ]
     },
     "execution_count": 246,
     "metadata": {},
     "output_type": "execute_result"
    }
   ],
   "source": [
    "mask"
   ]
  },
  {
   "cell_type": "code",
   "execution_count": 228,
   "id": "6be5645a-f0f2-44ca-9293-f950b5bd86bc",
   "metadata": {},
   "outputs": [
    {
     "data": {
      "text/plain": [
       "torch.Size([4, 256, 256])"
      ]
     },
     "execution_count": 228,
     "metadata": {},
     "output_type": "execute_result"
    }
   ],
   "source": [
    "torch.stack(sup).shape"
   ]
  },
  {
   "cell_type": "code",
   "execution_count": 45,
   "id": "48c3d0ec-8c80-4b2b-9545-38f67eba8377",
   "metadata": {},
   "outputs": [],
   "source": [
    "sup1 = list(compress(ip, mask))"
   ]
  },
  {
   "cell_type": "code",
   "execution_count": 48,
   "id": "61f840e1-2c81-4bfa-ae16-8b7d19b032dd",
   "metadata": {
    "editable": true,
    "slideshow": {
     "slide_type": ""
    },
    "tags": []
   },
   "outputs": [
    {
     "data": {
      "text/plain": [
       "True"
      ]
     },
     "execution_count": 48,
     "metadata": {},
     "output_type": "execute_result"
    }
   ],
   "source": [
    "type(torch.stack(sup1)) == torch.Tensor"
   ]
  },
  {
   "cell_type": "code",
   "execution_count": 47,
   "id": "9cba418a-dc97-403f-9579-b1914bf09b1f",
   "metadata": {},
   "outputs": [
    {
     "data": {
      "text/plain": [
       "list"
      ]
     },
     "execution_count": 47,
     "metadata": {},
     "output_type": "execute_result"
    }
   ],
   "source": [
    "type(sup1)"
   ]
  },
  {
   "cell_type": "code",
   "execution_count": 231,
   "id": "5afb0d3d-70e7-427c-9a53-2d00f7b900a2",
   "metadata": {},
   "outputs": [
    {
     "data": {
      "text/plain": [
       "torch.Size([12, 256, 256])"
      ]
     },
     "execution_count": 231,
     "metadata": {},
     "output_type": "execute_result"
    }
   ],
   "source": [
    "ip.shape"
   ]
  },
  {
   "cell_type": "code",
   "execution_count": 13,
   "id": "84aab06b-2021-4230-8cc1-5f79a8993416",
   "metadata": {},
   "outputs": [],
   "source": [
    "from torch.utils.data import DataLoader, Dataset\n",
    "dl = DataLoader(toy_dataset,batch_size = 16,shuffle = False)"
   ]
  },
  {
   "cell_type": "code",
   "execution_count": 239,
   "id": "25eeb7d3-569c-42d8-ae36-a8260689ce78",
   "metadata": {},
   "outputs": [],
   "source": [
    "batch = next(iter(dl))"
   ]
  },
  {
   "cell_type": "code",
   "execution_count": 241,
   "id": "f8e9294b-4e43-460a-899f-0b8929b159ed",
   "metadata": {},
   "outputs": [],
   "source": [
    "b1 = next(iter(dl))"
   ]
  },
  {
   "cell_type": "code",
   "execution_count": 243,
   "id": "343c69a1-3c0c-4061-99e8-9a56a19607d4",
   "metadata": {},
   "outputs": [],
   "source": [
    "b2 = next(iter(dl))"
   ]
  },
  {
   "cell_type": "code",
   "execution_count": 245,
   "id": "2e6581bd-09c0-4911-9009-ee7790c2fb55",
   "metadata": {
    "collapsed": true,
    "jupyter": {
     "outputs_hidden": true
    },
    "scrolled": true
   },
   "outputs": [
    {
     "data": {
      "text/plain": [
       "(tensor([[[[False, False, False,  ..., False, False, False],\n",
       "           [False, False, False,  ..., False, False, False],\n",
       "           [False, False, False,  ..., False, False, False],\n",
       "           ...,\n",
       "           [False, False, False,  ..., False, False, False],\n",
       "           [False, False, False,  ..., False, False, False],\n",
       "           [False, False, False,  ..., False, False, False]],\n",
       " \n",
       "          [[False, False, False,  ..., False, False, False],\n",
       "           [False, False, False,  ..., False, False, False],\n",
       "           [False, False, False,  ..., False, False, False],\n",
       "           ...,\n",
       "           [False, False, False,  ..., False, False, False],\n",
       "           [False, False, False,  ..., False, False, False],\n",
       "           [False, False, False,  ..., False, False, False]],\n",
       " \n",
       "          [[False, False, False,  ..., False, False, False],\n",
       "           [False, False, False,  ..., False, False, False],\n",
       "           [False, False, False,  ..., False, False, False],\n",
       "           ...,\n",
       "           [False, False, False,  ..., False, False, False],\n",
       "           [False, False, False,  ..., False, False, False],\n",
       "           [False, False, False,  ..., False, False, False]]],\n",
       " \n",
       " \n",
       "         [[[False, False, False,  ..., False, False, False],\n",
       "           [False, False, False,  ..., False, False, False],\n",
       "           [False, False, False,  ..., False, False, False],\n",
       "           ...,\n",
       "           [False, False, False,  ..., False, False, False],\n",
       "           [False, False, False,  ..., False, False, False],\n",
       "           [False, False, False,  ..., False, False, False]],\n",
       " \n",
       "          [[False, False, False,  ..., False, False, False],\n",
       "           [False, False, False,  ..., False, False, False],\n",
       "           [False, False, False,  ..., False, False, False],\n",
       "           ...,\n",
       "           [False, False, False,  ..., False, False, False],\n",
       "           [False, False, False,  ..., False, False, False],\n",
       "           [False, False, False,  ..., False, False, False]],\n",
       " \n",
       "          [[False, False, False,  ..., False, False, False],\n",
       "           [False, False, False,  ..., False, False, False],\n",
       "           [False, False, False,  ..., False, False, False],\n",
       "           ...,\n",
       "           [False, False, False,  ..., False, False, False],\n",
       "           [False, False, False,  ..., False, False, False],\n",
       "           [False, False, False,  ..., False, False, False]]],\n",
       " \n",
       " \n",
       "         [[[False, False, False,  ..., False, False, False],\n",
       "           [False, False, False,  ..., False, False, False],\n",
       "           [False, False, False,  ..., False, False, False],\n",
       "           ...,\n",
       "           [False, False, False,  ..., False, False, False],\n",
       "           [False, False, False,  ..., False, False, False],\n",
       "           [False, False, False,  ..., False, False, False]],\n",
       " \n",
       "          [[False, False, False,  ..., False, False, False],\n",
       "           [False, False, False,  ..., False, False, False],\n",
       "           [False, False, False,  ..., False, False, False],\n",
       "           ...,\n",
       "           [False, False, False,  ..., False, False, False],\n",
       "           [False, False, False,  ..., False, False, False],\n",
       "           [False, False, False,  ..., False, False, False]],\n",
       " \n",
       "          [[False, False, False,  ..., False, False, False],\n",
       "           [False, False, False,  ..., False, False, False],\n",
       "           [False, False, False,  ..., False, False, False],\n",
       "           ...,\n",
       "           [False, False, False,  ..., False, False, False],\n",
       "           [False, False, False,  ..., False, False, False],\n",
       "           [False, False, False,  ..., False, False, False]]],\n",
       " \n",
       " \n",
       "         ...,\n",
       " \n",
       " \n",
       "         [[[False, False, False,  ..., False, False, False],\n",
       "           [False, False, False,  ..., False, False, False],\n",
       "           [False, False, False,  ..., False, False, False],\n",
       "           ...,\n",
       "           [False, False, False,  ..., False, False, False],\n",
       "           [False, False, False,  ..., False, False, False],\n",
       "           [False, False, False,  ..., False, False, False]],\n",
       " \n",
       "          [[False, False, False,  ..., False, False, False],\n",
       "           [False, False, False,  ..., False, False, False],\n",
       "           [False, False, False,  ..., False, False, False],\n",
       "           ...,\n",
       "           [False, False, False,  ..., False, False, False],\n",
       "           [False, False, False,  ..., False, False, False],\n",
       "           [False, False, False,  ..., False, False, False]],\n",
       " \n",
       "          [[False, False, False,  ..., False, False, False],\n",
       "           [False, False, False,  ..., False, False, False],\n",
       "           [False, False, False,  ..., False, False, False],\n",
       "           ...,\n",
       "           [False, False, False,  ..., False, False, False],\n",
       "           [False, False, False,  ..., False, False, False],\n",
       "           [False, False, False,  ..., False, False, False]]],\n",
       " \n",
       " \n",
       "         [[[False, False, False,  ..., False, False, False],\n",
       "           [False, False, False,  ..., False, False, False],\n",
       "           [False, False, False,  ..., False, False, False],\n",
       "           ...,\n",
       "           [False, False, False,  ..., False, False, False],\n",
       "           [False, False, False,  ..., False, False, False],\n",
       "           [False, False, False,  ..., False, False, False]],\n",
       " \n",
       "          [[False, False, False,  ..., False, False, False],\n",
       "           [False, False, False,  ..., False, False, False],\n",
       "           [False, False, False,  ..., False, False, False],\n",
       "           ...,\n",
       "           [False, False, False,  ..., False, False, False],\n",
       "           [False, False, False,  ..., False, False, False],\n",
       "           [False, False, False,  ..., False, False, False]],\n",
       " \n",
       "          [[False, False, False,  ..., False, False, False],\n",
       "           [False, False, False,  ..., False, False, False],\n",
       "           [False, False, False,  ..., False, False, False],\n",
       "           ...,\n",
       "           [False, False, False,  ..., False, False, False],\n",
       "           [False, False, False,  ..., False, False, False],\n",
       "           [False, False, False,  ..., False, False, False]]],\n",
       " \n",
       " \n",
       "         [[[False, False, False,  ..., False, False, False],\n",
       "           [False, False, False,  ..., False, False, False],\n",
       "           [False, False, False,  ..., False, False, False],\n",
       "           ...,\n",
       "           [False, False, False,  ..., False, False, False],\n",
       "           [False, False, False,  ..., False, False, False],\n",
       "           [False, False, False,  ..., False, False, False]],\n",
       " \n",
       "          [[False, False, False,  ..., False, False, False],\n",
       "           [False, False, False,  ..., False, False, False],\n",
       "           [False, False, False,  ..., False, False, False],\n",
       "           ...,\n",
       "           [False, False, False,  ..., False, False, False],\n",
       "           [False, False, False,  ..., False, False, False],\n",
       "           [False, False, False,  ..., False, False, False]],\n",
       " \n",
       "          [[False, False, False,  ..., False, False, False],\n",
       "           [False, False, False,  ..., False, False, False],\n",
       "           [False, False, False,  ..., False, False, False],\n",
       "           ...,\n",
       "           [False, False, False,  ..., False, False, False],\n",
       "           [False, False, False,  ..., False, False, False],\n",
       "           [False, False, False,  ..., False, False, False]]]]),\n",
       " tensor([[[[True, True, True,  ..., True, True, True],\n",
       "           [True, True, True,  ..., True, True, True],\n",
       "           [True, True, True,  ..., True, True, True],\n",
       "           ...,\n",
       "           [True, True, True,  ..., True, True, True],\n",
       "           [True, True, True,  ..., True, True, True],\n",
       "           [True, True, True,  ..., True, True, True]],\n",
       " \n",
       "          [[True, True, True,  ..., True, True, True],\n",
       "           [True, True, True,  ..., True, True, True],\n",
       "           [True, True, True,  ..., True, True, True],\n",
       "           ...,\n",
       "           [True, True, True,  ..., True, True, True],\n",
       "           [True, True, True,  ..., True, True, True],\n",
       "           [True, True, True,  ..., True, True, True]],\n",
       " \n",
       "          [[True, True, True,  ..., True, True, True],\n",
       "           [True, True, True,  ..., True, True, True],\n",
       "           [True, True, True,  ..., True, True, True],\n",
       "           ...,\n",
       "           [True, True, True,  ..., True, True, True],\n",
       "           [True, True, True,  ..., True, True, True],\n",
       "           [True, True, True,  ..., True, True, True]]],\n",
       " \n",
       " \n",
       "         [[[True, True, True,  ..., True, True, True],\n",
       "           [True, True, True,  ..., True, True, True],\n",
       "           [True, True, True,  ..., True, True, True],\n",
       "           ...,\n",
       "           [True, True, True,  ..., True, True, True],\n",
       "           [True, True, True,  ..., True, True, True],\n",
       "           [True, True, True,  ..., True, True, True]],\n",
       " \n",
       "          [[True, True, True,  ..., True, True, True],\n",
       "           [True, True, True,  ..., True, True, True],\n",
       "           [True, True, True,  ..., True, True, True],\n",
       "           ...,\n",
       "           [True, True, True,  ..., True, True, True],\n",
       "           [True, True, True,  ..., True, True, True],\n",
       "           [True, True, True,  ..., True, True, True]],\n",
       " \n",
       "          [[True, True, True,  ..., True, True, True],\n",
       "           [True, True, True,  ..., True, True, True],\n",
       "           [True, True, True,  ..., True, True, True],\n",
       "           ...,\n",
       "           [True, True, True,  ..., True, True, True],\n",
       "           [True, True, True,  ..., True, True, True],\n",
       "           [True, True, True,  ..., True, True, True]]],\n",
       " \n",
       " \n",
       "         [[[True, True, True,  ..., True, True, True],\n",
       "           [True, True, True,  ..., True, True, True],\n",
       "           [True, True, True,  ..., True, True, True],\n",
       "           ...,\n",
       "           [True, True, True,  ..., True, True, True],\n",
       "           [True, True, True,  ..., True, True, True],\n",
       "           [True, True, True,  ..., True, True, True]],\n",
       " \n",
       "          [[True, True, True,  ..., True, True, True],\n",
       "           [True, True, True,  ..., True, True, True],\n",
       "           [True, True, True,  ..., True, True, True],\n",
       "           ...,\n",
       "           [True, True, True,  ..., True, True, True],\n",
       "           [True, True, True,  ..., True, True, True],\n",
       "           [True, True, True,  ..., True, True, True]],\n",
       " \n",
       "          [[True, True, True,  ..., True, True, True],\n",
       "           [True, True, True,  ..., True, True, True],\n",
       "           [True, True, True,  ..., True, True, True],\n",
       "           ...,\n",
       "           [True, True, True,  ..., True, True, True],\n",
       "           [True, True, True,  ..., True, True, True],\n",
       "           [True, True, True,  ..., True, True, True]]],\n",
       " \n",
       " \n",
       "         ...,\n",
       " \n",
       " \n",
       "         [[[True, True, True,  ..., True, True, True],\n",
       "           [True, True, True,  ..., True, True, True],\n",
       "           [True, True, True,  ..., True, True, True],\n",
       "           ...,\n",
       "           [True, True, True,  ..., True, True, True],\n",
       "           [True, True, True,  ..., True, True, True],\n",
       "           [True, True, True,  ..., True, True, True]],\n",
       " \n",
       "          [[True, True, True,  ..., True, True, True],\n",
       "           [True, True, True,  ..., True, True, True],\n",
       "           [True, True, True,  ..., True, True, True],\n",
       "           ...,\n",
       "           [True, True, True,  ..., True, True, True],\n",
       "           [True, True, True,  ..., True, True, True],\n",
       "           [True, True, True,  ..., True, True, True]],\n",
       " \n",
       "          [[True, True, True,  ..., True, True, True],\n",
       "           [True, True, True,  ..., True, True, True],\n",
       "           [True, True, True,  ..., True, True, True],\n",
       "           ...,\n",
       "           [True, True, True,  ..., True, True, True],\n",
       "           [True, True, True,  ..., True, True, True],\n",
       "           [True, True, True,  ..., True, True, True]]],\n",
       " \n",
       " \n",
       "         [[[True, True, True,  ..., True, True, True],\n",
       "           [True, True, True,  ..., True, True, True],\n",
       "           [True, True, True,  ..., True, True, True],\n",
       "           ...,\n",
       "           [True, True, True,  ..., True, True, True],\n",
       "           [True, True, True,  ..., True, True, True],\n",
       "           [True, True, True,  ..., True, True, True]],\n",
       " \n",
       "          [[True, True, True,  ..., True, True, True],\n",
       "           [True, True, True,  ..., True, True, True],\n",
       "           [True, True, True,  ..., True, True, True],\n",
       "           ...,\n",
       "           [True, True, True,  ..., True, True, True],\n",
       "           [True, True, True,  ..., True, True, True],\n",
       "           [True, True, True,  ..., True, True, True]],\n",
       " \n",
       "          [[True, True, True,  ..., True, True, True],\n",
       "           [True, True, True,  ..., True, True, True],\n",
       "           [True, True, True,  ..., True, True, True],\n",
       "           ...,\n",
       "           [True, True, True,  ..., True, True, True],\n",
       "           [True, True, True,  ..., True, True, True],\n",
       "           [True, True, True,  ..., True, True, True]]],\n",
       " \n",
       " \n",
       "         [[[True, True, True,  ..., True, True, True],\n",
       "           [True, True, True,  ..., True, True, True],\n",
       "           [True, True, True,  ..., True, True, True],\n",
       "           ...,\n",
       "           [True, True, True,  ..., True, True, True],\n",
       "           [True, True, True,  ..., True, True, True],\n",
       "           [True, True, True,  ..., True, True, True]],\n",
       " \n",
       "          [[True, True, True,  ..., True, True, True],\n",
       "           [True, True, True,  ..., True, True, True],\n",
       "           [True, True, True,  ..., True, True, True],\n",
       "           ...,\n",
       "           [True, True, True,  ..., True, True, True],\n",
       "           [True, True, True,  ..., True, True, True],\n",
       "           [True, True, True,  ..., True, True, True]],\n",
       " \n",
       "          [[True, True, True,  ..., True, True, True],\n",
       "           [True, True, True,  ..., True, True, True],\n",
       "           [True, True, True,  ..., True, True, True],\n",
       "           ...,\n",
       "           [True, True, True,  ..., True, True, True],\n",
       "           [True, True, True,  ..., True, True, True],\n",
       "           [True, True, True,  ..., True, True, True]]]]))"
      ]
     },
     "execution_count": 245,
     "metadata": {},
     "output_type": "execute_result"
    }
   ],
   "source": [
    "b1['data'] == batch['data'], b2['data'] == batch['data']"
   ]
  },
  {
   "cell_type": "code",
   "execution_count": 50,
   "id": "4df6de6e-b97f-4401-b80b-dc19380f600a",
   "metadata": {},
   "outputs": [
    {
     "data": {
      "text/plain": [
       "True"
      ]
     },
     "execution_count": 50,
     "metadata": {},
     "output_type": "execute_result"
    }
   ],
   "source": [
    "'fix' in \"fix@0.95-mix\""
   ]
  },
  {
   "cell_type": "code",
   "execution_count": 237,
   "id": "1a0a9a78-27bb-40cf-8b96-04f86b53cf2c",
   "metadata": {
    "editable": true,
    "slideshow": {
     "slide_type": ""
    },
    "tags": []
   },
   "outputs": [
    {
     "data": {
      "text/plain": [
       "['_DataLoader__initialized',\n",
       " '_DataLoader__multiprocessing_context',\n",
       " '_IterableDataset_len_called',\n",
       " '__annotations__',\n",
       " '__class__',\n",
       " '__class_getitem__',\n",
       " '__delattr__',\n",
       " '__dict__',\n",
       " '__dir__',\n",
       " '__doc__',\n",
       " '__eq__',\n",
       " '__format__',\n",
       " '__ge__',\n",
       " '__getattribute__',\n",
       " '__gt__',\n",
       " '__hash__',\n",
       " '__init__',\n",
       " '__init_subclass__',\n",
       " '__iter__',\n",
       " '__le__',\n",
       " '__len__',\n",
       " '__lt__',\n",
       " '__module__',\n",
       " '__ne__',\n",
       " '__new__',\n",
       " '__orig_bases__',\n",
       " '__parameters__',\n",
       " '__reduce__',\n",
       " '__reduce_ex__',\n",
       " '__repr__',\n",
       " '__setattr__',\n",
       " '__sizeof__',\n",
       " '__slots__',\n",
       " '__str__',\n",
       " '__subclasshook__',\n",
       " '__weakref__',\n",
       " '_auto_collation',\n",
       " '_dataset_kind',\n",
       " '_get_iterator',\n",
       " '_index_sampler',\n",
       " '_is_protocol',\n",
       " '_iterator',\n",
       " 'batch_sampler',\n",
       " 'batch_size',\n",
       " 'check_worker_number_rationality',\n",
       " 'collate_fn',\n",
       " 'dataset',\n",
       " 'drop_last',\n",
       " 'generator',\n",
       " 'multiprocessing_context',\n",
       " 'num_workers',\n",
       " 'persistent_workers',\n",
       " 'pin_memory',\n",
       " 'pin_memory_device',\n",
       " 'prefetch_factor',\n",
       " 'sampler',\n",
       " 'timeout',\n",
       " 'worker_init_fn']"
      ]
     },
     "execution_count": 237,
     "metadata": {},
     "output_type": "execute_result"
    }
   ],
   "source": [
    "dir(dl)"
   ]
  },
  {
   "cell_type": "code",
   "execution_count": 14,
   "id": "bc5a9ce5-2b63-4b6f-8145-a609c31c4af1",
   "metadata": {},
   "outputs": [
    {
     "name": "stderr",
     "output_type": "stream",
     "text": [
      "/usr/lib/python3/dist-packages/torchvision/datapoints/__init__.py:12: UserWarning: The torchvision.datapoints and torchvision.transforms.v2 namespaces are still Beta. While we do not expect major breaking changes, some APIs may still change according to user feedback. Please submit any feedback you may have in this issue: https://github.com/pytorch/vision/issues/6753, and you can also check out https://github.com/pytorch/vision/issues/7319 to learn more about the APIs that we suspect might involve future changes. You can silence this warning by calling torchvision.disable_beta_transforms_warning().\n",
      "  warnings.warn(_BETA_TRANSFORMS_WARNING)\n",
      "/usr/lib/python3/dist-packages/torchvision/transforms/v2/__init__.py:54: UserWarning: The torchvision.datapoints and torchvision.transforms.v2 namespaces are still Beta. While we do not expect major breaking changes, some APIs may still change according to user feedback. Please submit any feedback you may have in this issue: https://github.com/pytorch/vision/issues/6753, and you can also check out https://github.com/pytorch/vision/issues/7319 to learn more about the APIs that we suspect might involve future changes. You can silence this warning by calling torchvision.disable_beta_transforms_warning().\n",
      "  warnings.warn(_BETA_TRANSFORMS_WARNING)\n",
      "/usr/lib/python3/dist-packages/scipy/__init__.py:146: UserWarning: A NumPy version >=1.17.3 and <1.25.0 is required for this version of SciPy (detected version 1.25.2\n",
      "  warnings.warn(f\"A NumPy version >={np_minversion} and <{np_maxversion}\"\n"
     ]
    }
   ],
   "source": [
    "from datasets import VOCSegmentation"
   ]
  },
  {
   "cell_type": "code",
   "execution_count": 15,
   "id": "1dfaa9ce-8f51-40c6-8238-957484870898",
   "metadata": {
    "editable": true,
    "slideshow": {
     "slide_type": ""
    },
    "tags": []
   },
   "outputs": [],
   "source": [
    "dataset = VOCSegmentation()"
   ]
  },
  {
   "cell_type": "code",
   "execution_count": 258,
   "id": "2922685d-82a2-4c9f-ad38-b21155a10e03",
   "metadata": {
    "editable": true,
    "slideshow": {
     "slide_type": ""
    },
    "tags": []
   },
   "outputs": [
    {
     "name": "stdout",
     "output_type": "stream",
     "text": [
      "/home/ubuntu/SemiFL_extension/src\n"
     ]
    }
   ],
   "source": [
    "cd .."
   ]
  },
  {
   "cell_type": "code",
   "execution_count": 266,
   "id": "bfde5c8b-00f5-4cb3-a2e9-9bc8ad683344",
   "metadata": {},
   "outputs": [
    {
     "data": {
      "text/plain": [
       "184"
      ]
     },
     "execution_count": 266,
     "metadata": {},
     "output_type": "execute_result"
    }
   ],
   "source": [
    "import sys\n",
    "import numpy as np\n",
    "sys.getsizeof(dataset.data)"
   ]
  },
  {
   "cell_type": "code",
   "execution_count": 267,
   "id": "3d420ef9-8b52-45c4-9772-f60da6a23c55",
   "metadata": {},
   "outputs": [
    {
     "data": {
      "text/plain": [
       "(2913, 3, 256, 256)"
      ]
     },
     "execution_count": 267,
     "metadata": {},
     "output_type": "execute_result"
    }
   ],
   "source": [
    "np.shape(dataset.data)"
   ]
  },
  {
   "cell_type": "code",
   "execution_count": 268,
   "id": "13b1b7a5-3204-4f01-a2d4-05ef7bfe4b70",
   "metadata": {
    "editable": true,
    "slideshow": {
     "slide_type": ""
    },
    "tags": []
   },
   "outputs": [],
   "source": [
    "data_copy = dataset.data.copy()"
   ]
  },
  {
   "cell_type": "code",
   "execution_count": 20,
   "id": "68cd176b-fd64-4213-b732-ea50ec88552d",
   "metadata": {
    "editable": true,
    "slideshow": {
     "slide_type": ""
    },
    "tags": []
   },
   "outputs": [
    {
     "data": {
      "text/plain": [
       "<mmap.mmap closed=False, access=ACCESS_READ, length=2290876544, pos=0, offset=0>"
      ]
     },
     "execution_count": 20,
     "metadata": {},
     "output_type": "execute_result"
    }
   ],
   "source": [
    "dataset.data._mmap"
   ]
  },
  {
   "cell_type": "code",
   "execution_count": 21,
   "id": "98842325-1c3e-46ed-acbd-8fb694402dd3",
   "metadata": {},
   "outputs": [
    {
     "data": {
      "text/plain": [
       "<mmap.mmap closed=False, access=ACCESS_READ, length=2290876544, pos=0, offset=0>"
      ]
     },
     "execution_count": 21,
     "metadata": {},
     "output_type": "execute_result"
    }
   ],
   "source": [
    "dc._mmap"
   ]
  },
  {
   "cell_type": "code",
   "execution_count": 270,
   "id": "02b18acc-d670-4c30-a7de-656013262e6c",
   "metadata": {},
   "outputs": [],
   "source": [
    "data_copy._mmap"
   ]
  },
  {
   "cell_type": "code",
   "execution_count": 16,
   "id": "98ed0525-7f60-4836-a891-b1ec05f5dd4e",
   "metadata": {},
   "outputs": [],
   "source": [
    "dc = dataset.data"
   ]
  },
  {
   "cell_type": "code",
   "execution_count": 22,
   "id": "c3aae4ff-8798-4bed-a8a4-f0b38a46d6ab",
   "metadata": {
    "editable": true,
    "slideshow": {
     "slide_type": ""
    },
    "tags": []
   },
   "outputs": [
    {
     "name": "stdout",
     "output_type": "stream",
     "text": [
      "class:  memmap\n",
      "shape:  (2913, 3, 256, 256)\n",
      "strides:  (786432, 262144, 1024, 4)\n",
      "itemsize:  4\n",
      "aligned:  True\n",
      "contiguous:  True\n",
      "fortran:  False\n",
      "data pointer: 0x7f6ee7600080\n",
      "byteorder:  little\n",
      "byteswap:  False\n",
      "type: float32\n"
     ]
    }
   ],
   "source": [
    "np.info(dc)"
   ]
  },
  {
   "cell_type": "code",
   "execution_count": 23,
   "id": "8e034d5d-11f2-457d-ad5a-0b7ef4971504",
   "metadata": {},
   "outputs": [
    {
     "name": "stdout",
     "output_type": "stream",
     "text": [
      "class:  memmap\n",
      "shape:  (2913, 3, 256, 256)\n",
      "strides:  (786432, 262144, 1024, 4)\n",
      "itemsize:  4\n",
      "aligned:  True\n",
      "contiguous:  True\n",
      "fortran:  False\n",
      "data pointer: 0x7f6ee7600080\n",
      "byteorder:  little\n",
      "byteswap:  False\n",
      "type: float32\n"
     ]
    }
   ],
   "source": [
    "np.info(dataset.data)"
   ]
  },
  {
   "cell_type": "code",
   "execution_count": 278,
   "id": "da033be5-0a4d-43db-825c-11974cdc7a71",
   "metadata": {
    "editable": true,
    "slideshow": {
     "slide_type": ""
    },
    "tags": []
   },
   "outputs": [
    {
     "name": "stdout",
     "output_type": "stream",
     "text": [
      "class:  memmap\n",
      "shape:  (2913, 3, 256, 256)\n",
      "strides:  (786432, 262144, 1024, 4)\n",
      "itemsize:  4\n",
      "aligned:  True\n",
      "contiguous:  True\n",
      "fortran:  False\n",
      "data pointer: 0x7f1007b3f010\n",
      "byteorder:  little\n",
      "byteswap:  False\n",
      "type: float32\n"
     ]
    }
   ],
   "source": [
    "np.info(data_copy)"
   ]
  },
  {
   "cell_type": "code",
   "execution_count": 27,
   "id": "a2a32e1e-1bb6-4d20-a188-97ace9f4f167",
   "metadata": {},
   "outputs": [
    {
     "data": {
      "text/plain": [
       "15"
      ]
     },
     "execution_count": 27,
     "metadata": {},
     "output_type": "execute_result"
    }
   ],
   "source": [
    "np.random.randint(0,21,(513,))[0]"
   ]
  },
  {
   "cell_type": "code",
   "execution_count": 33,
   "id": "7ca94db0-a406-4fce-bb3f-24864ed3d0db",
   "metadata": {
    "editable": true,
    "scrolled": true,
    "slideshow": {
     "slide_type": ""
    },
    "tags": []
   },
   "outputs": [
    {
     "data": {
      "text/plain": [
       "torch.Size([3, 256, 256])"
      ]
     },
     "execution_count": 33,
     "metadata": {},
     "output_type": "execute_result"
    }
   ],
   "source": [
    "fdata[1,:].shape"
   ]
  },
  {
   "cell_type": "code",
   "execution_count": 36,
   "id": "a4d525c8-cbb6-41c8-8aa1-e9e5e5d2596f",
   "metadata": {
    "editable": true,
    "slideshow": {
     "slide_type": ""
    },
    "tags": []
   },
   "outputs": [],
   "source": [
    "import torchvision\n",
    "gaus = torchvision.transforms.v2.GaussianBlur(kernel_size=(5,5), sigma=(0.1))"
   ]
  },
  {
   "cell_type": "code",
   "execution_count": 39,
   "id": "dab77877-ce1f-4105-abb6-98071ab33804",
   "metadata": {},
   "outputs": [
    {
     "data": {
      "text/plain": [
       "torch.Size([3, 256, 256])"
      ]
     },
     "execution_count": 39,
     "metadata": {},
     "output_type": "execute_result"
    }
   ],
   "source": [
    "gaus(fdata[1,:]).shape"
   ]
  },
  {
   "cell_type": "code",
   "execution_count": 40,
   "id": "354ed3a0-2a6b-4781-9e03-b2ece0d6982d",
   "metadata": {},
   "outputs": [
    {
     "data": {
      "text/plain": [
       "torch.Size([3, 256, 256])"
      ]
     },
     "execution_count": 40,
     "metadata": {},
     "output_type": "execute_result"
    }
   ],
   "source": [
    "fdata[1,:].shape"
   ]
  },
  {
   "cell_type": "code",
   "execution_count": null,
   "id": "3d14236e-ee30-4838-ab0a-36ff35090ff7",
   "metadata": {
    "editable": true,
    "slideshow": {
     "slide_type": ""
    },
    "tags": []
   },
   "outputs": [],
   "source": [
    "index = torch.randint(0, len(self.dataset), (1,)).item()\n"
   ]
  },
  {
   "cell_type": "code",
   "execution_count": 43,
   "id": "8ce73ca1-31e1-4237-8420-f38e80f5b0fd",
   "metadata": {},
   "outputs": [
    {
     "ename": "ValueError",
     "evalue": "too many values to unpack (expected 2)",
     "output_type": "error",
     "traceback": [
      "\u001b[0;31m---------------------------------------------------------------------------\u001b[0m",
      "\u001b[0;31mValueError\u001b[0m                                Traceback (most recent call last)",
      "\u001b[0;32m/tmp/ipykernel_23556/2066386359.py\u001b[0m in \u001b[0;36m<module>\u001b[0;34m\u001b[0m\n\u001b[0;32m----> 1\u001b[0;31m \u001b[0mds1\u001b[0m\u001b[0;34m,\u001b[0m\u001b[0mds2\u001b[0m \u001b[0;34m=\u001b[0m \u001b[0mdataset\u001b[0m\u001b[0;34m\u001b[0m\u001b[0;34m\u001b[0m\u001b[0m\n\u001b[0m",
      "\u001b[0;31mValueError\u001b[0m: too many values to unpack (expected 2)"
     ]
    }
   ],
   "source": [
    "ds1,ds2 = dataset"
   ]
  },
  {
   "cell_type": "code",
   "execution_count": 63,
   "id": "fa352ba8-531d-4bce-aee7-9f2721637eff",
   "metadata": {
    "editable": true,
    "slideshow": {
     "slide_type": ""
    },
    "tags": []
   },
   "outputs": [
    {
     "data": {
      "text/plain": [
       "torch.Size([1, 256, 256])"
      ]
     },
     "execution_count": 63,
     "metadata": {},
     "output_type": "execute_result"
    }
   ],
   "source": [
    "torch.cat((fdata[1,:],fdata[1,:]))[0,...].unsqueeze(0).shape"
   ]
  },
  {
   "cell_type": "code",
   "execution_count": 64,
   "id": "4a13d434-dc7b-4065-9c97-664ccb44b13b",
   "metadata": {
    "editable": true,
    "slideshow": {
     "slide_type": ""
    },
    "tags": []
   },
   "outputs": [],
   "source": [
    "def compute_pixel_accuracy(pred_mask,true_mask):\n",
    "    pred_mask = torch.argmax(pred_mask,1)\n",
    "    correct_pixels = torch.sum(true_mask == pred_mask)\n",
    "    total_pixels = true_mask.view(-1).size()[0]\n",
    "    pixel_accuracy = correct_pixels / total_pixels\n",
    "    return pixel_accuracy.item()"
   ]
  },
  {
   "cell_type": "code",
   "execution_count": 69,
   "id": "15ae02b8-26bc-441d-8381-2d4a94a4572d",
   "metadata": {},
   "outputs": [],
   "source": [
    "ip = torch.randint(0,21,(12,256,256))\n",
    "pred = torch.rand(12,21,256,256)\n",
    "ipp = torch.argmax(pred,1)"
   ]
  },
  {
   "cell_type": "code",
   "execution_count": 70,
   "id": "0e8eaa26-84d3-4439-99ee-16494063ea3e",
   "metadata": {},
   "outputs": [
    {
     "data": {
      "text/plain": [
       "1.0"
      ]
     },
     "execution_count": 70,
     "metadata": {},
     "output_type": "execute_result"
    }
   ],
   "source": [
    "compute_pixel_accuracy(pred,ipp)"
   ]
  },
  {
   "cell_type": "code",
   "execution_count": null,
   "id": "caa69889-8926-4ca8-805b-5930352089ec",
   "metadata": {
    "editable": true,
    "slideshow": {
     "slide_type": ""
    },
    "tags": []
   },
   "outputs": [],
   "source": []
  },
  {
   "cell_type": "code",
   "execution_count": null,
   "id": "1e536e94",
   "metadata": {},
   "outputs": [],
   "source": [
    "!python train_classifier_ssfl.py --data_name voc --model_name deeplab --control_name 500_fix@0.95-mix_3_0.5_iid_5-5_0.5_0_1"
   ]
  },
  {
   "cell_type": "code",
   "execution_count": null,
   "id": "16ec0713",
   "metadata": {},
   "outputs": [],
   "source": [
    "git clone https://github.com/Karthik2924/SemiFL_extension.git"
   ]
  },
  {
   "cell_type": "code",
   "execution_count": null,
   "id": "250d50c1",
   "metadata": {},
   "outputs": [],
   "source": []
  },
  {
   "cell_type": "code",
   "execution_count": 3,
   "id": "06e2f403",
   "metadata": {},
   "outputs": [],
   "source": [
    "mkdir data"
   ]
  },
  {
   "cell_type": "code",
   "execution_count": 4,
   "id": "af69791d",
   "metadata": {},
   "outputs": [
    {
     "name": "stdout",
     "output_type": "stream",
     "text": [
      "/home/ubuntu/SemiFL_extension/src/data\n"
     ]
    }
   ],
   "source": [
    "cd data"
   ]
  },
  {
   "cell_type": "code",
   "execution_count": 6,
   "id": "d716cfd8",
   "metadata": {},
   "outputs": [
    {
     "name": "stdout",
     "output_type": "stream",
     "text": [
      "Downloading...\n",
      "From (original): https://drive.google.com/uc?id=1vXyVtH38tXe6qgtB1F4xgOqg3PuAtU65\n",
      "From (redirected): https://drive.google.com/uc?id=1vXyVtH38tXe6qgtB1F4xgOqg3PuAtU65&confirm=t&uuid=952b0318-c80b-4622-8d8d-5bd4d1153b50\n",
      "To: /home/ubuntu/SemiFL_extension/src/data/images.npy\n",
      "100%|███████████████████████████████████████| 2.29G/2.29G [00:14<00:00, 154MB/s]\n"
     ]
    }
   ],
   "source": [
    "!gdown 1vXyVtH38tXe6qgtB1F4xgOqg3PuAtU65"
   ]
  },
  {
   "cell_type": "code",
   "execution_count": 7,
   "id": "4cebdf55",
   "metadata": {},
   "outputs": [
    {
     "name": "stdout",
     "output_type": "stream",
     "text": [
      "Downloading...\n",
      "From (original): https://drive.google.com/uc?id=1MH7vQJJj_UxsCrpcNzZZvs-U-NaefsGQ\n",
      "From (redirected): https://drive.google.com/uc?id=1MH7vQJJj_UxsCrpcNzZZvs-U-NaefsGQ&confirm=t&uuid=4c3f81bc-da88-4f68-97e0-0dbb8c172905\n",
      "To: /home/ubuntu/SemiFL_extension/src/data/masks.npy\n",
      "100%|███████████████████████████████████████| 1.53G/1.53G [00:09<00:00, 165MB/s]\n"
     ]
    }
   ],
   "source": [
    "!gdown 1MH7vQJJj_UxsCrpcNzZZvs-U-NaefsGQ"
   ]
  },
  {
   "cell_type": "code",
   "execution_count": 2,
   "id": "3bfaa4d6",
   "metadata": {},
   "outputs": [
    {
     "name": "stdout",
     "output_type": "stream",
     "text": [
      "[Errno 2] No such file or directory: 'data'\n",
      "/home/ubuntu/SemiFL_extension/src\n"
     ]
    }
   ],
   "source": [
    "pip install gdown torchmetrics anytree"
   ]
  },
  {
   "cell_type": "code",
   "execution_count": 18,
   "id": "2701059b",
   "metadata": {},
   "outputs": [],
   "source": [
    "from itertools import compress\n",
    "import torch.nn as nn\n",
    "import torch.nn.functional as F\n",
    "import torch\n",
    "import numpy as np"
   ]
  },
  {
   "cell_type": "code",
   "execution_count": 19,
   "id": "e3bd0169",
   "metadata": {
    "editable": true,
    "slideshow": {
     "slide_type": ""
    },
    "tags": []
   },
   "outputs": [],
   "source": [
    "import torch\n",
    "from torch.utils.data import Dataset\n",
    "\n",
    "class SimpleDataset(Dataset):\n",
    "    def __init__(self):\n",
    "        #self.num_samples = num_samples\n",
    "        self.data = torch.rand(100,3,128,128)\n",
    "        self.target = torch.rand(100,1,128,128)\n",
    "        self.transform = None\n",
    "        self.ind = np.arange(100)\n",
    "\n",
    "\n",
    "    def __len__(self):\n",
    "        return len(self.data)\n",
    "        #return self.num_samples\n",
    "\n",
    "    def __getitem__(self, idx):\n",
    "        didx = self.ind[idx]\n",
    "        if self.transform:\n",
    "            return {'data':self.transform(torch.tensor(self.data[didx])), 'target':self.transform(self.target[idx])}\n",
    "        else:\n",
    "            return {'data': torch.tensor(self.data[didx]), 'target':self.target[idx]}\n",
    "\n",
    "# Create an instance of the ToyDataset\n",
    "toy_dataset = SimpleDataset()\n"
   ]
  },
  {
   "cell_type": "code",
   "execution_count": null,
   "id": "9aa7d797",
   "metadata": {},
   "outputs": [],
   "source": [
    " mix_data : torch.Size([32, 3, 256, 256])\n",
    " mix_target : torch.Size([32, 256, 256, 2])"
   ]
  },
  {
   "cell_type": "code",
   "execution_count": 55,
   "id": "cb891081",
   "metadata": {
    "editable": true,
    "slideshow": {
     "slide_type": ""
    },
    "tags": []
   },
   "outputs": [
    {
     "data": {
      "text/plain": [
       "torch.Size([32, 256, 256])"
      ]
     },
     "execution_count": 55,
     "metadata": {},
     "output_type": "execute_result"
    }
   ],
   "source": [
    "mt = torch.rand(32,256,256,2)\n",
    "mt[...,0].shape"
   ]
  },
  {
   "cell_type": "code",
   "execution_count": 225,
   "id": "4c9ebaee",
   "metadata": {
    "editable": true,
    "slideshow": {
     "slide_type": ""
    },
    "tags": []
   },
   "outputs": [
    {
     "data": {
      "text/plain": [
       "{'data': tensor([[[0.1558, 0.5554, 0.7492,  ..., 0.7182, 0.6796, 0.6616],\n",
       "          [0.0715, 0.1611, 0.1820,  ..., 0.7437, 0.8855, 0.1173],\n",
       "          [0.9753, 0.6165, 0.5458,  ..., 0.2451, 0.8714, 0.9966],\n",
       "          ...,\n",
       "          [0.7623, 0.5801, 0.5785,  ..., 0.9306, 0.1995, 0.6560],\n",
       "          [0.3178, 0.5615, 0.6404,  ..., 0.4690, 0.6695, 0.1623],\n",
       "          [0.7191, 0.6891, 0.3419,  ..., 0.6456, 0.5513, 0.0148]],\n",
       " \n",
       "         [[0.7347, 0.0358, 0.0323,  ..., 0.3718, 0.2759, 0.4531],\n",
       "          [0.5653, 0.4994, 0.9425,  ..., 0.9436, 0.1095, 0.9461],\n",
       "          [0.7066, 0.5367, 0.4919,  ..., 0.4237, 0.4636, 0.9858],\n",
       "          ...,\n",
       "          [0.5698, 0.4981, 0.6093,  ..., 0.7908, 0.8211, 0.4857],\n",
       "          [0.8211, 0.7413, 0.0222,  ..., 0.0151, 0.6716, 0.4168],\n",
       "          [0.1369, 0.1983, 0.8129,  ..., 0.9479, 0.2614, 0.0351]],\n",
       " \n",
       "         [[0.6801, 0.1116, 0.7881,  ..., 0.2024, 0.5684, 0.4633],\n",
       "          [0.6290, 0.7158, 0.5946,  ..., 0.4991, 0.0343, 0.2133],\n",
       "          [0.4969, 0.4387, 0.1266,  ..., 0.5765, 0.0394, 0.8180],\n",
       "          ...,\n",
       "          [0.8013, 0.0173, 0.6671,  ..., 0.0434, 0.0748, 0.1846],\n",
       "          [0.6022, 0.9026, 0.1992,  ..., 0.3614, 0.6847, 0.6265],\n",
       "          [0.0792, 0.9499, 0.0556,  ..., 0.5067, 0.9540, 0.3599]]]),\n",
       " 'target': tensor([[[0.4085, 0.9323, 0.2367,  ..., 0.1579, 0.5195, 0.6619],\n",
       "          [0.4206, 0.0041, 0.4602,  ..., 0.8152, 0.6566, 0.2879],\n",
       "          [0.5358, 0.2915, 0.0055,  ..., 0.9630, 0.6744, 0.6555],\n",
       "          ...,\n",
       "          [0.8892, 0.2518, 0.3535,  ..., 0.4094, 0.8589, 0.3327],\n",
       "          [0.7804, 0.4136, 0.7400,  ..., 0.8838, 0.8466, 0.1199],\n",
       "          [0.6109, 0.8123, 0.3661,  ..., 0.5646, 0.9636, 0.0913]]])}"
      ]
     },
     "execution_count": 225,
     "metadata": {},
     "output_type": "execute_result"
    }
   ],
   "source": [
    "toy_dataset[9]"
   ]
  },
  {
   "cell_type": "code",
   "execution_count": null,
   "id": "57da1552",
   "metadata": {},
   "outputs": [],
   "source": [
    "output_, input_ = {}, {}\n",
    "output_['target'] = torch.cat(output, dim=0)\n",
    "input_['target'] = torch.cat(target, dim=0)\n",
    "#output_['target'] = F.softmax(output_['target'], dim=-1)\n",
    "output_['target'] = F.softmax(output_['target'], dim=1)"
   ]
  },
  {
   "cell_type": "code",
   "execution_count": 3,
   "id": "2cbe40db",
   "metadata": {},
   "outputs": [
    {
     "name": "stdout",
     "output_type": "stream",
     "text": [
      "torch.Size([12, 21, 256, 256]) torch.Size([12, 256, 256])\n"
     ]
    }
   ],
   "source": [
    "op = torch.rand(12, 21, 256, 256)\n",
    "ip = torch.randint(0,21,(12,256,256))\n",
    "print(op.shape,ip.shape)"
   ]
  },
  {
   "cell_type": "code",
   "execution_count": 4,
   "id": "3be558c3",
   "metadata": {},
   "outputs": [],
   "source": [
    "op = F.softmax(op, dim=1)"
   ]
  },
  {
   "cell_type": "code",
   "execution_count": 5,
   "id": "9dfb2b26",
   "metadata": {},
   "outputs": [
    {
     "data": {
      "text/plain": [
       "torch.Size([12, 21, 256, 256])"
      ]
     },
     "execution_count": 5,
     "metadata": {},
     "output_type": "execute_result"
    }
   ],
   "source": [
    "op.shape"
   ]
  },
  {
   "cell_type": "code",
   "execution_count": 6,
   "id": "79829488",
   "metadata": {},
   "outputs": [],
   "source": [
    "def make_hard_pseudo_label( soft_pseudo_label):\n",
    "    #max_p, hard_pseudo_label = torch.max(soft_pseudo_label, dim=-1)\n",
    "    max_p, hard_pseudo_label = torch.max(soft_pseudo_label, dim=1)\n",
    "    print(max_p.shape)\n",
    "    mv = max_p.view(max_p.shape[0],-1).sum(1)\n",
    "    a,b,c = max_p.shape\n",
    "    total = b*c\n",
    "    #mask = max_p.ge(cfg['threshold'])\n",
    "    #mask = max_p.ge(0.08)\n",
    "    mask = mv.ge(total*0.07225)\n",
    "    return hard_pseudo_label, mask\n"
   ]
  },
  {
   "cell_type": "code",
   "execution_count": 7,
   "id": "0e51883c",
   "metadata": {},
   "outputs": [
    {
     "name": "stdout",
     "output_type": "stream",
     "text": [
      "torch.Size([12, 256, 256])\n"
     ]
    }
   ],
   "source": [
    "nlab,mask = make_hard_pseudo_label(op)"
   ]
  },
  {
   "cell_type": "code",
   "execution_count": 8,
   "id": "6edf0821",
   "metadata": {},
   "outputs": [
    {
     "data": {
      "text/plain": [
       "(tensor([False,  True]), tensor([7, 5]))"
      ]
     },
     "execution_count": 8,
     "metadata": {},
     "output_type": "execute_result"
    }
   ],
   "source": [
    "torch.unique(mask,return_counts = True)"
   ]
  },
  {
   "cell_type": "code",
   "execution_count": 210,
   "id": "1a9414e8",
   "metadata": {},
   "outputs": [],
   "source": [
    "sup = list(compress(nlab, mask))"
   ]
  },
  {
   "cell_type": "code",
   "execution_count": 226,
   "id": "f9b26927",
   "metadata": {},
   "outputs": [
    {
     "data": {
      "text/plain": [
       "torch.Size([12, 256, 256])"
      ]
     },
     "execution_count": 226,
     "metadata": {},
     "output_type": "execute_result"
    }
   ],
   "source": [
    "nlab.shape"
   ]
  },
  {
   "cell_type": "code",
   "execution_count": 9,
   "id": "93070997",
   "metadata": {},
   "outputs": [],
   "source": [
    "fdata = torch.rand(25,3,256,256)"
   ]
  },
  {
   "cell_type": "code",
   "execution_count": 10,
   "id": "e12e96ff",
   "metadata": {},
   "outputs": [],
   "source": [
    "ind = torch.arange(12)"
   ]
  },
  {
   "cell_type": "code",
   "execution_count": 11,
   "id": "5ca80294",
   "metadata": {},
   "outputs": [
    {
     "data": {
      "text/plain": [
       "torch.Size([5, 3, 256, 256])"
      ]
     },
     "execution_count": 11,
     "metadata": {},
     "output_type": "execute_result"
    }
   ],
   "source": [
    "fdata[ind,:][mask].shape"
   ]
  },
  {
   "cell_type": "code",
   "execution_count": 12,
   "id": "3451790c",
   "metadata": {},
   "outputs": [
    {
     "data": {
      "text/plain": [
       "torch.Size([12])"
      ]
     },
     "execution_count": 12,
     "metadata": {},
     "output_type": "execute_result"
    }
   ],
   "source": [
    "r = torch.rand(12,256,256)\n",
    "r.view(12,-1).sum(1).shape"
   ]
  },
  {
   "cell_type": "code",
   "execution_count": 246,
   "id": "7f1b731d",
   "metadata": {},
   "outputs": [
    {
     "data": {
      "text/plain": [
       "tensor([False, False, False,  True, False,  True,  True, False, False, False,\n",
       "        False,  True])"
      ]
     },
     "execution_count": 246,
     "metadata": {},
     "output_type": "execute_result"
    }
   ],
   "source": [
    "mask"
   ]
  },
  {
   "cell_type": "code",
   "execution_count": 228,
   "id": "2b52e774",
   "metadata": {},
   "outputs": [
    {
     "data": {
      "text/plain": [
       "torch.Size([4, 256, 256])"
      ]
     },
     "execution_count": 228,
     "metadata": {},
     "output_type": "execute_result"
    }
   ],
   "source": [
    "torch.stack(sup).shape"
   ]
  },
  {
   "cell_type": "code",
   "execution_count": 45,
   "id": "b15fec46",
   "metadata": {},
   "outputs": [],
   "source": [
    "sup1 = list(compress(ip, mask))"
   ]
  },
  {
   "cell_type": "code",
   "execution_count": 48,
   "id": "5e733815",
   "metadata": {
    "editable": true,
    "slideshow": {
     "slide_type": ""
    },
    "tags": []
   },
   "outputs": [
    {
     "data": {
      "text/plain": [
       "True"
      ]
     },
     "execution_count": 48,
     "metadata": {},
     "output_type": "execute_result"
    }
   ],
   "source": [
    "type(torch.stack(sup1)) == torch.Tensor"
   ]
  },
  {
   "cell_type": "code",
   "execution_count": 47,
   "id": "aa8b3988",
   "metadata": {},
   "outputs": [
    {
     "data": {
      "text/plain": [
       "list"
      ]
     },
     "execution_count": 47,
     "metadata": {},
     "output_type": "execute_result"
    }
   ],
   "source": [
    "type(sup1)"
   ]
  },
  {
   "cell_type": "code",
   "execution_count": 231,
   "id": "a9d8058e",
   "metadata": {},
   "outputs": [
    {
     "data": {
      "text/plain": [
       "torch.Size([12, 256, 256])"
      ]
     },
     "execution_count": 231,
     "metadata": {},
     "output_type": "execute_result"
    }
   ],
   "source": [
    "ip.shape"
   ]
  },
  {
   "cell_type": "code",
   "execution_count": 13,
   "id": "321848a3",
   "metadata": {},
   "outputs": [],
   "source": [
    "from torch.utils.data import DataLoader, Dataset\n",
    "dl = DataLoader(toy_dataset,batch_size = 16,shuffle = False)"
   ]
  },
  {
   "cell_type": "code",
   "execution_count": 239,
   "id": "b9400a7e",
   "metadata": {},
   "outputs": [],
   "source": [
    "batch = next(iter(dl))"
   ]
  },
  {
   "cell_type": "code",
   "execution_count": 241,
   "id": "269d0f28",
   "metadata": {},
   "outputs": [],
   "source": [
    "b1 = next(iter(dl))"
   ]
  },
  {
   "cell_type": "code",
   "execution_count": 243,
   "id": "931ac824",
   "metadata": {},
   "outputs": [],
   "source": [
    "b2 = next(iter(dl))"
   ]
  },
  {
   "cell_type": "code",
   "execution_count": 245,
   "id": "f535cc7d",
   "metadata": {
    "collapsed": true,
    "jupyter": {
     "outputs_hidden": true
    },
    "scrolled": true
   },
   "outputs": [
    {
     "data": {
      "text/plain": [
       "(tensor([[[[False, False, False,  ..., False, False, False],\n",
       "           [False, False, False,  ..., False, False, False],\n",
       "           [False, False, False,  ..., False, False, False],\n",
       "           ...,\n",
       "           [False, False, False,  ..., False, False, False],\n",
       "           [False, False, False,  ..., False, False, False],\n",
       "           [False, False, False,  ..., False, False, False]],\n",
       " \n",
       "          [[False, False, False,  ..., False, False, False],\n",
       "           [False, False, False,  ..., False, False, False],\n",
       "           [False, False, False,  ..., False, False, False],\n",
       "           ...,\n",
       "           [False, False, False,  ..., False, False, False],\n",
       "           [False, False, False,  ..., False, False, False],\n",
       "           [False, False, False,  ..., False, False, False]],\n",
       " \n",
       "          [[False, False, False,  ..., False, False, False],\n",
       "           [False, False, False,  ..., False, False, False],\n",
       "           [False, False, False,  ..., False, False, False],\n",
       "           ...,\n",
       "           [False, False, False,  ..., False, False, False],\n",
       "           [False, False, False,  ..., False, False, False],\n",
       "           [False, False, False,  ..., False, False, False]]],\n",
       " \n",
       " \n",
       "         [[[False, False, False,  ..., False, False, False],\n",
       "           [False, False, False,  ..., False, False, False],\n",
       "           [False, False, False,  ..., False, False, False],\n",
       "           ...,\n",
       "           [False, False, False,  ..., False, False, False],\n",
       "           [False, False, False,  ..., False, False, False],\n",
       "           [False, False, False,  ..., False, False, False]],\n",
       " \n",
       "          [[False, False, False,  ..., False, False, False],\n",
       "           [False, False, False,  ..., False, False, False],\n",
       "           [False, False, False,  ..., False, False, False],\n",
       "           ...,\n",
       "           [False, False, False,  ..., False, False, False],\n",
       "           [False, False, False,  ..., False, False, False],\n",
       "           [False, False, False,  ..., False, False, False]],\n",
       " \n",
       "          [[False, False, False,  ..., False, False, False],\n",
       "           [False, False, False,  ..., False, False, False],\n",
       "           [False, False, False,  ..., False, False, False],\n",
       "           ...,\n",
       "           [False, False, False,  ..., False, False, False],\n",
       "           [False, False, False,  ..., False, False, False],\n",
       "           [False, False, False,  ..., False, False, False]]],\n",
       " \n",
       " \n",
       "         [[[False, False, False,  ..., False, False, False],\n",
       "           [False, False, False,  ..., False, False, False],\n",
       "           [False, False, False,  ..., False, False, False],\n",
       "           ...,\n",
       "           [False, False, False,  ..., False, False, False],\n",
       "           [False, False, False,  ..., False, False, False],\n",
       "           [False, False, False,  ..., False, False, False]],\n",
       " \n",
       "          [[False, False, False,  ..., False, False, False],\n",
       "           [False, False, False,  ..., False, False, False],\n",
       "           [False, False, False,  ..., False, False, False],\n",
       "           ...,\n",
       "           [False, False, False,  ..., False, False, False],\n",
       "           [False, False, False,  ..., False, False, False],\n",
       "           [False, False, False,  ..., False, False, False]],\n",
       " \n",
       "          [[False, False, False,  ..., False, False, False],\n",
       "           [False, False, False,  ..., False, False, False],\n",
       "           [False, False, False,  ..., False, False, False],\n",
       "           ...,\n",
       "           [False, False, False,  ..., False, False, False],\n",
       "           [False, False, False,  ..., False, False, False],\n",
       "           [False, False, False,  ..., False, False, False]]],\n",
       " \n",
       " \n",
       "         ...,\n",
       " \n",
       " \n",
       "         [[[False, False, False,  ..., False, False, False],\n",
       "           [False, False, False,  ..., False, False, False],\n",
       "           [False, False, False,  ..., False, False, False],\n",
       "           ...,\n",
       "           [False, False, False,  ..., False, False, False],\n",
       "           [False, False, False,  ..., False, False, False],\n",
       "           [False, False, False,  ..., False, False, False]],\n",
       " \n",
       "          [[False, False, False,  ..., False, False, False],\n",
       "           [False, False, False,  ..., False, False, False],\n",
       "           [False, False, False,  ..., False, False, False],\n",
       "           ...,\n",
       "           [False, False, False,  ..., False, False, False],\n",
       "           [False, False, False,  ..., False, False, False],\n",
       "           [False, False, False,  ..., False, False, False]],\n",
       " \n",
       "          [[False, False, False,  ..., False, False, False],\n",
       "           [False, False, False,  ..., False, False, False],\n",
       "           [False, False, False,  ..., False, False, False],\n",
       "           ...,\n",
       "           [False, False, False,  ..., False, False, False],\n",
       "           [False, False, False,  ..., False, False, False],\n",
       "           [False, False, False,  ..., False, False, False]]],\n",
       " \n",
       " \n",
       "         [[[False, False, False,  ..., False, False, False],\n",
       "           [False, False, False,  ..., False, False, False],\n",
       "           [False, False, False,  ..., False, False, False],\n",
       "           ...,\n",
       "           [False, False, False,  ..., False, False, False],\n",
       "           [False, False, False,  ..., False, False, False],\n",
       "           [False, False, False,  ..., False, False, False]],\n",
       " \n",
       "          [[False, False, False,  ..., False, False, False],\n",
       "           [False, False, False,  ..., False, False, False],\n",
       "           [False, False, False,  ..., False, False, False],\n",
       "           ...,\n",
       "           [False, False, False,  ..., False, False, False],\n",
       "           [False, False, False,  ..., False, False, False],\n",
       "           [False, False, False,  ..., False, False, False]],\n",
       " \n",
       "          [[False, False, False,  ..., False, False, False],\n",
       "           [False, False, False,  ..., False, False, False],\n",
       "           [False, False, False,  ..., False, False, False],\n",
       "           ...,\n",
       "           [False, False, False,  ..., False, False, False],\n",
       "           [False, False, False,  ..., False, False, False],\n",
       "           [False, False, False,  ..., False, False, False]]],\n",
       " \n",
       " \n",
       "         [[[False, False, False,  ..., False, False, False],\n",
       "           [False, False, False,  ..., False, False, False],\n",
       "           [False, False, False,  ..., False, False, False],\n",
       "           ...,\n",
       "           [False, False, False,  ..., False, False, False],\n",
       "           [False, False, False,  ..., False, False, False],\n",
       "           [False, False, False,  ..., False, False, False]],\n",
       " \n",
       "          [[False, False, False,  ..., False, False, False],\n",
       "           [False, False, False,  ..., False, False, False],\n",
       "           [False, False, False,  ..., False, False, False],\n",
       "           ...,\n",
       "           [False, False, False,  ..., False, False, False],\n",
       "           [False, False, False,  ..., False, False, False],\n",
       "           [False, False, False,  ..., False, False, False]],\n",
       " \n",
       "          [[False, False, False,  ..., False, False, False],\n",
       "           [False, False, False,  ..., False, False, False],\n",
       "           [False, False, False,  ..., False, False, False],\n",
       "           ...,\n",
       "           [False, False, False,  ..., False, False, False],\n",
       "           [False, False, False,  ..., False, False, False],\n",
       "           [False, False, False,  ..., False, False, False]]]]),\n",
       " tensor([[[[True, True, True,  ..., True, True, True],\n",
       "           [True, True, True,  ..., True, True, True],\n",
       "           [True, True, True,  ..., True, True, True],\n",
       "           ...,\n",
       "           [True, True, True,  ..., True, True, True],\n",
       "           [True, True, True,  ..., True, True, True],\n",
       "           [True, True, True,  ..., True, True, True]],\n",
       " \n",
       "          [[True, True, True,  ..., True, True, True],\n",
       "           [True, True, True,  ..., True, True, True],\n",
       "           [True, True, True,  ..., True, True, True],\n",
       "           ...,\n",
       "           [True, True, True,  ..., True, True, True],\n",
       "           [True, True, True,  ..., True, True, True],\n",
       "           [True, True, True,  ..., True, True, True]],\n",
       " \n",
       "          [[True, True, True,  ..., True, True, True],\n",
       "           [True, True, True,  ..., True, True, True],\n",
       "           [True, True, True,  ..., True, True, True],\n",
       "           ...,\n",
       "           [True, True, True,  ..., True, True, True],\n",
       "           [True, True, True,  ..., True, True, True],\n",
       "           [True, True, True,  ..., True, True, True]]],\n",
       " \n",
       " \n",
       "         [[[True, True, True,  ..., True, True, True],\n",
       "           [True, True, True,  ..., True, True, True],\n",
       "           [True, True, True,  ..., True, True, True],\n",
       "           ...,\n",
       "           [True, True, True,  ..., True, True, True],\n",
       "           [True, True, True,  ..., True, True, True],\n",
       "           [True, True, True,  ..., True, True, True]],\n",
       " \n",
       "          [[True, True, True,  ..., True, True, True],\n",
       "           [True, True, True,  ..., True, True, True],\n",
       "           [True, True, True,  ..., True, True, True],\n",
       "           ...,\n",
       "           [True, True, True,  ..., True, True, True],\n",
       "           [True, True, True,  ..., True, True, True],\n",
       "           [True, True, True,  ..., True, True, True]],\n",
       " \n",
       "          [[True, True, True,  ..., True, True, True],\n",
       "           [True, True, True,  ..., True, True, True],\n",
       "           [True, True, True,  ..., True, True, True],\n",
       "           ...,\n",
       "           [True, True, True,  ..., True, True, True],\n",
       "           [True, True, True,  ..., True, True, True],\n",
       "           [True, True, True,  ..., True, True, True]]],\n",
       " \n",
       " \n",
       "         [[[True, True, True,  ..., True, True, True],\n",
       "           [True, True, True,  ..., True, True, True],\n",
       "           [True, True, True,  ..., True, True, True],\n",
       "           ...,\n",
       "           [True, True, True,  ..., True, True, True],\n",
       "           [True, True, True,  ..., True, True, True],\n",
       "           [True, True, True,  ..., True, True, True]],\n",
       " \n",
       "          [[True, True, True,  ..., True, True, True],\n",
       "           [True, True, True,  ..., True, True, True],\n",
       "           [True, True, True,  ..., True, True, True],\n",
       "           ...,\n",
       "           [True, True, True,  ..., True, True, True],\n",
       "           [True, True, True,  ..., True, True, True],\n",
       "           [True, True, True,  ..., True, True, True]],\n",
       " \n",
       "          [[True, True, True,  ..., True, True, True],\n",
       "           [True, True, True,  ..., True, True, True],\n",
       "           [True, True, True,  ..., True, True, True],\n",
       "           ...,\n",
       "           [True, True, True,  ..., True, True, True],\n",
       "           [True, True, True,  ..., True, True, True],\n",
       "           [True, True, True,  ..., True, True, True]]],\n",
       " \n",
       " \n",
       "         ...,\n",
       " \n",
       " \n",
       "         [[[True, True, True,  ..., True, True, True],\n",
       "           [True, True, True,  ..., True, True, True],\n",
       "           [True, True, True,  ..., True, True, True],\n",
       "           ...,\n",
       "           [True, True, True,  ..., True, True, True],\n",
       "           [True, True, True,  ..., True, True, True],\n",
       "           [True, True, True,  ..., True, True, True]],\n",
       " \n",
       "          [[True, True, True,  ..., True, True, True],\n",
       "           [True, True, True,  ..., True, True, True],\n",
       "           [True, True, True,  ..., True, True, True],\n",
       "           ...,\n",
       "           [True, True, True,  ..., True, True, True],\n",
       "           [True, True, True,  ..., True, True, True],\n",
       "           [True, True, True,  ..., True, True, True]],\n",
       " \n",
       "          [[True, True, True,  ..., True, True, True],\n",
       "           [True, True, True,  ..., True, True, True],\n",
       "           [True, True, True,  ..., True, True, True],\n",
       "           ...,\n",
       "           [True, True, True,  ..., True, True, True],\n",
       "           [True, True, True,  ..., True, True, True],\n",
       "           [True, True, True,  ..., True, True, True]]],\n",
       " \n",
       " \n",
       "         [[[True, True, True,  ..., True, True, True],\n",
       "           [True, True, True,  ..., True, True, True],\n",
       "           [True, True, True,  ..., True, True, True],\n",
       "           ...,\n",
       "           [True, True, True,  ..., True, True, True],\n",
       "           [True, True, True,  ..., True, True, True],\n",
       "           [True, True, True,  ..., True, True, True]],\n",
       " \n",
       "          [[True, True, True,  ..., True, True, True],\n",
       "           [True, True, True,  ..., True, True, True],\n",
       "           [True, True, True,  ..., True, True, True],\n",
       "           ...,\n",
       "           [True, True, True,  ..., True, True, True],\n",
       "           [True, True, True,  ..., True, True, True],\n",
       "           [True, True, True,  ..., True, True, True]],\n",
       " \n",
       "          [[True, True, True,  ..., True, True, True],\n",
       "           [True, True, True,  ..., True, True, True],\n",
       "           [True, True, True,  ..., True, True, True],\n",
       "           ...,\n",
       "           [True, True, True,  ..., True, True, True],\n",
       "           [True, True, True,  ..., True, True, True],\n",
       "           [True, True, True,  ..., True, True, True]]],\n",
       " \n",
       " \n",
       "         [[[True, True, True,  ..., True, True, True],\n",
       "           [True, True, True,  ..., True, True, True],\n",
       "           [True, True, True,  ..., True, True, True],\n",
       "           ...,\n",
       "           [True, True, True,  ..., True, True, True],\n",
       "           [True, True, True,  ..., True, True, True],\n",
       "           [True, True, True,  ..., True, True, True]],\n",
       " \n",
       "          [[True, True, True,  ..., True, True, True],\n",
       "           [True, True, True,  ..., True, True, True],\n",
       "           [True, True, True,  ..., True, True, True],\n",
       "           ...,\n",
       "           [True, True, True,  ..., True, True, True],\n",
       "           [True, True, True,  ..., True, True, True],\n",
       "           [True, True, True,  ..., True, True, True]],\n",
       " \n",
       "          [[True, True, True,  ..., True, True, True],\n",
       "           [True, True, True,  ..., True, True, True],\n",
       "           [True, True, True,  ..., True, True, True],\n",
       "           ...,\n",
       "           [True, True, True,  ..., True, True, True],\n",
       "           [True, True, True,  ..., True, True, True],\n",
       "           [True, True, True,  ..., True, True, True]]]]))"
      ]
     },
     "execution_count": 245,
     "metadata": {},
     "output_type": "execute_result"
    }
   ],
   "source": [
    "b1['data'] == batch['data'], b2['data'] == batch['data']"
   ]
  },
  {
   "cell_type": "code",
   "execution_count": 50,
   "id": "3cf39958",
   "metadata": {},
   "outputs": [
    {
     "data": {
      "text/plain": [
       "True"
      ]
     },
     "execution_count": 50,
     "metadata": {},
     "output_type": "execute_result"
    }
   ],
   "source": [
    "'fix' in \"fix@0.95-mix\""
   ]
  },
  {
   "cell_type": "code",
   "execution_count": 237,
   "id": "441edb51",
   "metadata": {
    "editable": true,
    "slideshow": {
     "slide_type": ""
    },
    "tags": []
   },
   "outputs": [
    {
     "data": {
      "text/plain": [
       "['_DataLoader__initialized',\n",
       " '_DataLoader__multiprocessing_context',\n",
       " '_IterableDataset_len_called',\n",
       " '__annotations__',\n",
       " '__class__',\n",
       " '__class_getitem__',\n",
       " '__delattr__',\n",
       " '__dict__',\n",
       " '__dir__',\n",
       " '__doc__',\n",
       " '__eq__',\n",
       " '__format__',\n",
       " '__ge__',\n",
       " '__getattribute__',\n",
       " '__gt__',\n",
       " '__hash__',\n",
       " '__init__',\n",
       " '__init_subclass__',\n",
       " '__iter__',\n",
       " '__le__',\n",
       " '__len__',\n",
       " '__lt__',\n",
       " '__module__',\n",
       " '__ne__',\n",
       " '__new__',\n",
       " '__orig_bases__',\n",
       " '__parameters__',\n",
       " '__reduce__',\n",
       " '__reduce_ex__',\n",
       " '__repr__',\n",
       " '__setattr__',\n",
       " '__sizeof__',\n",
       " '__slots__',\n",
       " '__str__',\n",
       " '__subclasshook__',\n",
       " '__weakref__',\n",
       " '_auto_collation',\n",
       " '_dataset_kind',\n",
       " '_get_iterator',\n",
       " '_index_sampler',\n",
       " '_is_protocol',\n",
       " '_iterator',\n",
       " 'batch_sampler',\n",
       " 'batch_size',\n",
       " 'check_worker_number_rationality',\n",
       " 'collate_fn',\n",
       " 'dataset',\n",
       " 'drop_last',\n",
       " 'generator',\n",
       " 'multiprocessing_context',\n",
       " 'num_workers',\n",
       " 'persistent_workers',\n",
       " 'pin_memory',\n",
       " 'pin_memory_device',\n",
       " 'prefetch_factor',\n",
       " 'sampler',\n",
       " 'timeout',\n",
       " 'worker_init_fn']"
      ]
     },
     "execution_count": 237,
     "metadata": {},
     "output_type": "execute_result"
    }
   ],
   "source": [
    "dir(dl)"
   ]
  },
  {
   "cell_type": "code",
   "execution_count": 14,
   "id": "a05f5cf2",
   "metadata": {},
   "outputs": [
    {
     "name": "stderr",
     "output_type": "stream",
     "text": [
      "/usr/lib/python3/dist-packages/torchvision/datapoints/__init__.py:12: UserWarning: The torchvision.datapoints and torchvision.transforms.v2 namespaces are still Beta. While we do not expect major breaking changes, some APIs may still change according to user feedback. Please submit any feedback you may have in this issue: https://github.com/pytorch/vision/issues/6753, and you can also check out https://github.com/pytorch/vision/issues/7319 to learn more about the APIs that we suspect might involve future changes. You can silence this warning by calling torchvision.disable_beta_transforms_warning().\n",
      "  warnings.warn(_BETA_TRANSFORMS_WARNING)\n",
      "/usr/lib/python3/dist-packages/torchvision/transforms/v2/__init__.py:54: UserWarning: The torchvision.datapoints and torchvision.transforms.v2 namespaces are still Beta. While we do not expect major breaking changes, some APIs may still change according to user feedback. Please submit any feedback you may have in this issue: https://github.com/pytorch/vision/issues/6753, and you can also check out https://github.com/pytorch/vision/issues/7319 to learn more about the APIs that we suspect might involve future changes. You can silence this warning by calling torchvision.disable_beta_transforms_warning().\n",
      "  warnings.warn(_BETA_TRANSFORMS_WARNING)\n",
      "/usr/lib/python3/dist-packages/scipy/__init__.py:146: UserWarning: A NumPy version >=1.17.3 and <1.25.0 is required for this version of SciPy (detected version 1.25.2\n",
      "  warnings.warn(f\"A NumPy version >={np_minversion} and <{np_maxversion}\"\n"
     ]
    }
   ],
   "source": [
    "from datasets import VOCSegmentation"
   ]
  },
  {
   "cell_type": "code",
   "execution_count": 15,
   "id": "e100c681",
   "metadata": {
    "editable": true,
    "slideshow": {
     "slide_type": ""
    },
    "tags": []
   },
   "outputs": [],
   "source": [
    "dataset = VOCSegmentation()"
   ]
  },
  {
   "cell_type": "code",
   "execution_count": 258,
   "id": "8958b1df",
   "metadata": {
    "editable": true,
    "slideshow": {
     "slide_type": ""
    },
    "tags": []
   },
   "outputs": [
    {
     "name": "stdout",
     "output_type": "stream",
     "text": [
      "/home/ubuntu/SemiFL_extension/src\n"
     ]
    }
   ],
   "source": [
    "cd .."
   ]
  },
  {
   "cell_type": "code",
   "execution_count": 266,
   "id": "2c5db9fd",
   "metadata": {},
   "outputs": [
    {
     "data": {
      "text/plain": [
       "184"
      ]
     },
     "execution_count": 266,
     "metadata": {},
     "output_type": "execute_result"
    }
   ],
   "source": [
    "import sys\n",
    "import numpy as np\n",
    "sys.getsizeof(dataset.data)"
   ]
  },
  {
   "cell_type": "code",
   "execution_count": 267,
   "id": "5745f832",
   "metadata": {},
   "outputs": [
    {
     "data": {
      "text/plain": [
       "(2913, 3, 256, 256)"
      ]
     },
     "execution_count": 267,
     "metadata": {},
     "output_type": "execute_result"
    }
   ],
   "source": [
    "np.shape(dataset.data)"
   ]
  },
  {
   "cell_type": "code",
   "execution_count": 268,
   "id": "22b4d09a",
   "metadata": {
    "editable": true,
    "slideshow": {
     "slide_type": ""
    },
    "tags": []
   },
   "outputs": [],
   "source": [
    "data_copy = dataset.data.copy()"
   ]
  },
  {
   "cell_type": "code",
   "execution_count": 20,
   "id": "2a41c69e",
   "metadata": {
    "editable": true,
    "slideshow": {
     "slide_type": ""
    },
    "tags": []
   },
   "outputs": [
    {
     "data": {
      "text/plain": [
       "<mmap.mmap closed=False, access=ACCESS_READ, length=2290876544, pos=0, offset=0>"
      ]
     },
     "execution_count": 20,
     "metadata": {},
     "output_type": "execute_result"
    }
   ],
   "source": [
    "dataset.data._mmap"
   ]
  },
  {
   "cell_type": "code",
   "execution_count": 21,
   "id": "fe9acbfd",
   "metadata": {},
   "outputs": [
    {
     "data": {
      "text/plain": [
       "<mmap.mmap closed=False, access=ACCESS_READ, length=2290876544, pos=0, offset=0>"
      ]
     },
     "execution_count": 21,
     "metadata": {},
     "output_type": "execute_result"
    }
   ],
   "source": [
    "dc._mmap"
   ]
  },
  {
   "cell_type": "code",
   "execution_count": 270,
   "id": "dee65cfb",
   "metadata": {},
   "outputs": [],
   "source": [
    "data_copy._mmap"
   ]
  },
  {
   "cell_type": "code",
   "execution_count": 16,
   "id": "a4568add",
   "metadata": {},
   "outputs": [],
   "source": [
    "dc = dataset.data"
   ]
  },
  {
   "cell_type": "code",
   "execution_count": 22,
   "id": "ce874c66",
   "metadata": {
    "editable": true,
    "slideshow": {
     "slide_type": ""
    },
    "tags": []
   },
   "outputs": [
    {
     "name": "stdout",
     "output_type": "stream",
     "text": [
      "class:  memmap\n",
      "shape:  (2913, 3, 256, 256)\n",
      "strides:  (786432, 262144, 1024, 4)\n",
      "itemsize:  4\n",
      "aligned:  True\n",
      "contiguous:  True\n",
      "fortran:  False\n",
      "data pointer: 0x7f6ee7600080\n",
      "byteorder:  little\n",
      "byteswap:  False\n",
      "type: float32\n"
     ]
    }
   ],
   "source": [
    "np.info(dc)"
   ]
  },
  {
   "cell_type": "code",
   "execution_count": 23,
   "id": "4617dd1f",
   "metadata": {},
   "outputs": [
    {
     "name": "stdout",
     "output_type": "stream",
     "text": [
      "class:  memmap\n",
      "shape:  (2913, 3, 256, 256)\n",
      "strides:  (786432, 262144, 1024, 4)\n",
      "itemsize:  4\n",
      "aligned:  True\n",
      "contiguous:  True\n",
      "fortran:  False\n",
      "data pointer: 0x7f6ee7600080\n",
      "byteorder:  little\n",
      "byteswap:  False\n",
      "type: float32\n"
     ]
    }
   ],
   "source": [
    "np.info(dataset.data)"
   ]
  },
  {
   "cell_type": "code",
   "execution_count": 278,
   "id": "dc60c425",
   "metadata": {
    "editable": true,
    "slideshow": {
     "slide_type": ""
    },
    "tags": []
   },
   "outputs": [
    {
     "name": "stdout",
     "output_type": "stream",
     "text": [
      "class:  memmap\n",
      "shape:  (2913, 3, 256, 256)\n",
      "strides:  (786432, 262144, 1024, 4)\n",
      "itemsize:  4\n",
      "aligned:  True\n",
      "contiguous:  True\n",
      "fortran:  False\n",
      "data pointer: 0x7f1007b3f010\n",
      "byteorder:  little\n",
      "byteswap:  False\n",
      "type: float32\n"
     ]
    }
   ],
   "source": [
    "np.info(data_copy)"
   ]
  },
  {
   "cell_type": "code",
   "execution_count": 27,
   "id": "883413ee",
   "metadata": {},
   "outputs": [
    {
     "data": {
      "text/plain": [
       "15"
      ]
     },
     "execution_count": 27,
     "metadata": {},
     "output_type": "execute_result"
    }
   ],
   "source": [
    "np.random.randint(0,21,(513,))[0]"
   ]
  },
  {
   "cell_type": "code",
   "execution_count": 33,
   "id": "40d00d67",
   "metadata": {
    "editable": true,
    "scrolled": true,
    "slideshow": {
     "slide_type": ""
    },
    "tags": []
   },
   "outputs": [
    {
     "data": {
      "text/plain": [
       "torch.Size([3, 256, 256])"
      ]
     },
     "execution_count": 33,
     "metadata": {},
     "output_type": "execute_result"
    }
   ],
   "source": [
    "fdata[1,:].shape"
   ]
  },
  {
   "cell_type": "code",
   "execution_count": 36,
   "id": "2a659a72",
   "metadata": {
    "editable": true,
    "slideshow": {
     "slide_type": ""
    },
    "tags": []
   },
   "outputs": [],
   "source": [
    "import torchvision\n",
    "gaus = torchvision.transforms.v2.GaussianBlur(kernel_size=(5,5), sigma=(0.1))"
   ]
  },
  {
   "cell_type": "code",
   "execution_count": 39,
   "id": "0781e962",
   "metadata": {},
   "outputs": [
    {
     "data": {
      "text/plain": [
       "torch.Size([3, 256, 256])"
      ]
     },
     "execution_count": 39,
     "metadata": {},
     "output_type": "execute_result"
    }
   ],
   "source": [
    "gaus(fdata[1,:]).shape"
   ]
  },
  {
   "cell_type": "code",
   "execution_count": 40,
   "id": "b370fa6b",
   "metadata": {},
   "outputs": [
    {
     "data": {
      "text/plain": [
       "torch.Size([3, 256, 256])"
      ]
     },
     "execution_count": 40,
     "metadata": {},
     "output_type": "execute_result"
    }
   ],
   "source": [
    "fdata[1,:].shape"
   ]
  },
  {
   "cell_type": "code",
   "execution_count": null,
   "id": "eb98d54a",
   "metadata": {
    "editable": true,
    "slideshow": {
     "slide_type": ""
    },
    "tags": []
   },
   "outputs": [],
   "source": [
    "index = torch.randint(0, len(self.dataset), (1,)).item()\n"
   ]
  },
  {
   "cell_type": "code",
   "execution_count": 43,
   "id": "004ae576",
   "metadata": {},
   "outputs": [
    {
     "ename": "ValueError",
     "evalue": "too many values to unpack (expected 2)",
     "output_type": "error",
     "traceback": [
      "\u001b[0;31m---------------------------------------------------------------------------\u001b[0m",
      "\u001b[0;31mValueError\u001b[0m                                Traceback (most recent call last)",
      "\u001b[0;32m/tmp/ipykernel_23556/2066386359.py\u001b[0m in \u001b[0;36m<module>\u001b[0;34m\u001b[0m\n\u001b[0;32m----> 1\u001b[0;31m \u001b[0mds1\u001b[0m\u001b[0;34m,\u001b[0m\u001b[0mds2\u001b[0m \u001b[0;34m=\u001b[0m \u001b[0mdataset\u001b[0m\u001b[0;34m\u001b[0m\u001b[0;34m\u001b[0m\u001b[0m\n\u001b[0m",
      "\u001b[0;31mValueError\u001b[0m: too many values to unpack (expected 2)"
     ]
    }
   ],
   "source": [
    "ds1,ds2 = dataset"
   ]
  },
  {
   "cell_type": "code",
   "execution_count": 63,
   "id": "6509612d",
   "metadata": {
    "editable": true,
    "slideshow": {
     "slide_type": ""
    },
    "tags": []
   },
   "outputs": [
    {
     "data": {
      "text/plain": [
       "torch.Size([1, 256, 256])"
      ]
     },
     "execution_count": 63,
     "metadata": {},
     "output_type": "execute_result"
    }
   ],
   "source": [
    "torch.cat((fdata[1,:],fdata[1,:]))[0,...].unsqueeze(0).shape"
   ]
  },
  {
   "cell_type": "code",
   "execution_count": 64,
   "id": "04214daa",
   "metadata": {
    "editable": true,
    "slideshow": {
     "slide_type": ""
    },
    "tags": []
   },
   "outputs": [],
   "source": [
    "def compute_pixel_accuracy(pred_mask,true_mask):\n",
    "    pred_mask = torch.argmax(pred_mask,1)\n",
    "    correct_pixels = torch.sum(true_mask == pred_mask)\n",
    "    total_pixels = true_mask.view(-1).size()[0]\n",
    "    pixel_accuracy = correct_pixels / total_pixels\n",
    "    return pixel_accuracy.item()"
   ]
  },
  {
   "cell_type": "code",
   "execution_count": 69,
   "id": "0fa758ec",
   "metadata": {},
   "outputs": [],
   "source": [
    "ip = torch.randint(0,21,(12,256,256))\n",
    "pred = torch.rand(12,21,256,256)\n",
    "ipp = torch.argmax(pred,1)"
   ]
  },
  {
   "cell_type": "code",
   "execution_count": 70,
   "id": "2e197f5e",
   "metadata": {},
   "outputs": [
    {
     "data": {
      "text/plain": [
       "1.0"
      ]
     },
     "execution_count": 70,
     "metadata": {},
     "output_type": "execute_result"
    }
   ],
   "source": [
    "compute_pixel_accuracy(pred,ipp)"
   ]
  },
  {
   "cell_type": "code",
   "execution_count": null,
   "id": "b7cc54b3",
   "metadata": {
    "editable": true,
    "slideshow": {
     "slide_type": ""
    },
    "tags": []
   },
   "outputs": [],
   "source": []
  }
 ],
 "metadata": {
  "kernelspec": {
   "display_name": "Python 3 (ipykernel)",
   "language": "python",
   "name": "python3"
  },
  "language_info": {
   "codemirror_mode": {
    "name": "ipython",
    "version": 3
   },
   "file_extension": ".py",
   "mimetype": "text/x-python",
   "name": "python",
   "nbconvert_exporter": "python",
   "pygments_lexer": "ipython3",
   "version": "3.10.12"
  }
 },
 "nbformat": 4,
 "nbformat_minor": 5
}
